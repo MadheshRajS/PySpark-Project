{
  "nbformat": 4,
  "nbformat_minor": 0,
  "metadata": {
    "colab": {
      "provenance": []
    },
    "kernelspec": {
      "name": "python3",
      "display_name": "Python 3"
    },
    "language_info": {
      "name": "python"
    }
  },
  "cells": [
    {
      "cell_type": "markdown",
      "source": [
        "Requirements"
      ],
      "metadata": {
        "id": "w58q830rk4ty"
      }
    },
    {
      "cell_type": "code",
      "execution_count": 1,
      "metadata": {
        "colab": {
          "base_uri": "https://localhost:8080/"
        },
        "id": "77NZTTeu0rgh",
        "outputId": "edd10da2-e818-4bf7-c1bf-581bc5fbf579"
      },
      "outputs": [
        {
          "output_type": "stream",
          "name": "stdout",
          "text": [
            "Collecting pyspark\n",
            "  Downloading pyspark-3.4.1.tar.gz (310.8 MB)\n",
            "\u001b[2K     \u001b[90m━━━━━━━━━━━━━━━━━━━━━━━━━━━━━━━━━━━━━━━\u001b[0m \u001b[32m310.8/310.8 MB\u001b[0m \u001b[31m3.6 MB/s\u001b[0m eta \u001b[36m0:00:00\u001b[0m\n",
            "\u001b[?25h  Preparing metadata (setup.py) ... \u001b[?25l\u001b[?25hdone\n",
            "Requirement already satisfied: py4j==0.10.9.7 in /usr/local/lib/python3.10/dist-packages (from pyspark) (0.10.9.7)\n",
            "Building wheels for collected packages: pyspark\n",
            "  Building wheel for pyspark (setup.py) ... \u001b[?25l\u001b[?25hdone\n",
            "  Created wheel for pyspark: filename=pyspark-3.4.1-py2.py3-none-any.whl size=311285397 sha256=7b1307c40379608b61160e4802daea312ad094d0f40eaec706f3ae38d4755b75\n",
            "  Stored in directory: /root/.cache/pip/wheels/0d/77/a3/ff2f74cc9ab41f8f594dabf0579c2a7c6de920d584206e0834\n",
            "Successfully built pyspark\n",
            "Installing collected packages: pyspark\n",
            "Successfully installed pyspark-3.4.1\n"
          ]
        }
      ],
      "source": [
        "pip install pyspark"
      ]
    },
    {
      "cell_type": "markdown",
      "source": [
        "Creating a Spark Session"
      ],
      "metadata": {
        "id": "Zg1q4Ei-k-Fe"
      }
    },
    {
      "cell_type": "code",
      "source": [
        "from pyspark.context import SparkContext\n",
        "from pyspark.sql.session import SparkSession\n",
        "sc = SparkContext.getOrCreate()\n",
        "spark = SparkSession(sc)"
      ],
      "metadata": {
        "id": "9-wTF5N31AJm"
      },
      "execution_count": 2,
      "outputs": []
    },
    {
      "cell_type": "markdown",
      "source": [
        "Loading the data"
      ],
      "metadata": {
        "id": "iB3A5UyxlDKK"
      }
    },
    {
      "cell_type": "code",
      "source": [
        "df=spark.read.format(\"csv\") \\\n",
        "  .option('header','True')\\\n",
        "  .option('delimiter',',')\\\n",
        "  .option('inferSchema','True')\\\n",
        "  .load('/content/drive/MyDrive/LoanStats_2018Q4.csv')"
      ],
      "metadata": {
        "id": "_OB9lKfq1GEO"
      },
      "execution_count": 3,
      "outputs": []
    },
    {
      "cell_type": "code",
      "source": [
        "len(df.columns)"
      ],
      "metadata": {
        "colab": {
          "base_uri": "https://localhost:8080/"
        },
        "id": "XR_sF1DxPSuO",
        "outputId": "7b4e8cdb-191c-497b-f7b0-a371669a2421"
      },
      "execution_count": 29,
      "outputs": [
        {
          "output_type": "execute_result",
          "data": {
            "text/plain": [
              "145"
            ]
          },
          "metadata": {},
          "execution_count": 29
        }
      ]
    },
    {
      "cell_type": "code",
      "source": [
        "df.columns"
      ],
      "metadata": {
        "colab": {
          "base_uri": "https://localhost:8080/"
        },
        "id": "ETpXeeiiMrcU",
        "outputId": "68613986-f4be-4072-b025-cd68510b009b"
      },
      "execution_count": 28,
      "outputs": [
        {
          "output_type": "execute_result",
          "data": {
            "text/plain": [
              "['id',\n",
              " 'member_id',\n",
              " 'loan_amnt',\n",
              " 'funded_amnt',\n",
              " 'funded_amnt_inv',\n",
              " 'term',\n",
              " 'int_rate',\n",
              " 'installment',\n",
              " 'grade',\n",
              " 'sub_grade',\n",
              " 'emp_title',\n",
              " 'emp_length',\n",
              " 'home_ownership',\n",
              " 'annual_inc',\n",
              " 'verification_status',\n",
              " 'issue_d',\n",
              " 'loan_status',\n",
              " 'pymnt_plan',\n",
              " 'url',\n",
              " 'desc',\n",
              " 'purpose',\n",
              " 'title',\n",
              " 'zip_code',\n",
              " 'addr_state',\n",
              " 'dti',\n",
              " 'delinq_2yrs',\n",
              " 'earliest_cr_line',\n",
              " 'inq_last_6mths',\n",
              " 'mths_since_last_delinq',\n",
              " 'mths_since_last_record',\n",
              " 'open_acc',\n",
              " 'pub_rec',\n",
              " 'revol_bal',\n",
              " 'revol_util',\n",
              " 'total_acc',\n",
              " 'initial_list_status',\n",
              " 'out_prncp',\n",
              " 'out_prncp_inv',\n",
              " 'total_pymnt',\n",
              " 'total_pymnt_inv',\n",
              " 'total_rec_prncp',\n",
              " 'total_rec_int',\n",
              " 'total_rec_late_fee',\n",
              " 'recoveries',\n",
              " 'collection_recovery_fee',\n",
              " 'last_pymnt_d',\n",
              " 'last_pymnt_amnt',\n",
              " 'next_pymnt_d',\n",
              " 'last_credit_pull_d',\n",
              " 'collections_12_mths_ex_med',\n",
              " 'mths_since_last_major_derog',\n",
              " 'policy_code',\n",
              " 'application_type',\n",
              " 'annual_inc_joint',\n",
              " 'dti_joint',\n",
              " 'verification_status_joint',\n",
              " 'acc_now_delinq',\n",
              " 'tot_coll_amt',\n",
              " 'tot_cur_bal',\n",
              " 'open_acc_6m',\n",
              " 'open_act_il',\n",
              " 'open_il_12m',\n",
              " 'open_il_24m',\n",
              " 'mths_since_rcnt_il',\n",
              " 'total_bal_il',\n",
              " 'il_util',\n",
              " 'open_rv_12m',\n",
              " 'open_rv_24m',\n",
              " 'max_bal_bc',\n",
              " 'all_util',\n",
              " 'total_rev_hi_lim',\n",
              " 'inq_fi',\n",
              " 'total_cu_tl',\n",
              " 'inq_last_12m',\n",
              " 'acc_open_past_24mths',\n",
              " 'avg_cur_bal',\n",
              " 'bc_open_to_buy',\n",
              " 'bc_util',\n",
              " 'chargeoff_within_12_mths',\n",
              " 'delinq_amnt',\n",
              " 'mo_sin_old_il_acct',\n",
              " 'mo_sin_old_rev_tl_op',\n",
              " 'mo_sin_rcnt_rev_tl_op',\n",
              " 'mo_sin_rcnt_tl',\n",
              " 'mort_acc',\n",
              " 'mths_since_recent_bc',\n",
              " 'mths_since_recent_bc_dlq',\n",
              " 'mths_since_recent_inq',\n",
              " 'mths_since_recent_revol_delinq',\n",
              " 'num_accts_ever_120_pd',\n",
              " 'num_actv_bc_tl',\n",
              " 'num_actv_rev_tl',\n",
              " 'num_bc_sats',\n",
              " 'num_bc_tl',\n",
              " 'num_il_tl',\n",
              " 'num_op_rev_tl',\n",
              " 'num_rev_accts',\n",
              " 'num_rev_tl_bal_gt_0',\n",
              " 'num_sats',\n",
              " 'num_tl_120dpd_2m',\n",
              " 'num_tl_30dpd',\n",
              " 'num_tl_90g_dpd_24m',\n",
              " 'num_tl_op_past_12m',\n",
              " 'pct_tl_nvr_dlq',\n",
              " 'percent_bc_gt_75',\n",
              " 'pub_rec_bankruptcies',\n",
              " 'tax_liens',\n",
              " 'tot_hi_cred_lim',\n",
              " 'total_bal_ex_mort',\n",
              " 'total_bc_limit',\n",
              " 'total_il_high_credit_limit',\n",
              " 'revol_bal_joint',\n",
              " 'sec_app_earliest_cr_line',\n",
              " 'sec_app_inq_last_6mths',\n",
              " 'sec_app_mort_acc',\n",
              " 'sec_app_open_acc',\n",
              " 'sec_app_revol_util',\n",
              " 'sec_app_open_act_il',\n",
              " 'sec_app_num_rev_accts',\n",
              " 'sec_app_chargeoff_within_12_mths',\n",
              " 'sec_app_collections_12_mths_ex_med',\n",
              " 'sec_app_mths_since_last_major_derog',\n",
              " 'hardship_flag',\n",
              " 'hardship_type',\n",
              " 'hardship_reason',\n",
              " 'hardship_status',\n",
              " 'deferral_term',\n",
              " 'hardship_amount',\n",
              " 'hardship_start_date',\n",
              " 'hardship_end_date',\n",
              " 'payment_plan_start_date',\n",
              " 'hardship_length',\n",
              " 'hardship_dpd',\n",
              " 'hardship_loan_status',\n",
              " 'orig_projected_additional_accrued_interest',\n",
              " 'hardship_payoff_balance_amount',\n",
              " 'hardship_last_payment_amount',\n",
              " 'disbursement_method',\n",
              " 'debt_settlement_flag',\n",
              " 'debt_settlement_flag_date',\n",
              " 'settlement_status',\n",
              " 'settlement_date',\n",
              " 'settlement_amount',\n",
              " 'settlement_percentage',\n",
              " 'settlement_term']"
            ]
          },
          "metadata": {},
          "execution_count": 28
        }
      ]
    },
    {
      "cell_type": "code",
      "source": [
        "df.show()"
      ],
      "metadata": {
        "colab": {
          "base_uri": "https://localhost:8080/"
        },
        "id": "XQCShfMzfwC3",
        "outputId": "3c4df295-fe3c-4085-f097-6a87c8ec5e0b"
      },
      "execution_count": null,
      "outputs": [
        {
          "output_type": "stream",
          "name": "stdout",
          "text": [
            "+----+---------+---------+-----------+---------------+----------+--------+-----------+-----+---------+--------------------+----------+--------------+----------+-------------------+-------+-----------+----------+----+----+------------------+--------------------+--------+----------+-----+-----------+----------------+--------------+----------------------+----------------------+--------+-------+---------+----------+---------+-------------------+---------+-------------+-----------+---------------+---------------+-------------+------------------+----------+-----------------------+------------+---------------+------------+------------------+--------------------------+---------------------------+-----------+----------------+----------------+---------+-------------------------+--------------+------------+-----------+-----------+-----------+-----------+-----------+------------------+------------+-------+-----------+-----------+----------+--------+----------------+------+-----------+------------+--------------------+-----------+--------------+-------+------------------------+-----------+------------------+--------------------+---------------------+--------------+--------+--------------------+------------------------+---------------------+------------------------------+---------------------+--------------+---------------+-----------+---------+---------+-------------+-------------+-------------------+--------+----------------+------------+------------------+------------------+--------------+----------------+--------------------+---------+---------------+-----------------+--------------+--------------------------+---------------+------------------------+----------------------+----------------+----------------+------------------+-------------------+---------------------+--------------------------------+----------------------------------+-----------------------------------+-------------+-------------+---------------+---------------+-------------+---------------+-------------------+-----------------+-----------------------+---------------+------------+--------------------+------------------------------------------+------------------------------+----------------------------+-------------------+--------------------+-------------------------+-----------------+---------------+-----------------+---------------------+---------------+\n",
            "|  id|member_id|loan_amnt|funded_amnt|funded_amnt_inv|      term|int_rate|installment|grade|sub_grade|           emp_title|emp_length|home_ownership|annual_inc|verification_status|issue_d|loan_status|pymnt_plan| url|desc|           purpose|               title|zip_code|addr_state|  dti|delinq_2yrs|earliest_cr_line|inq_last_6mths|mths_since_last_delinq|mths_since_last_record|open_acc|pub_rec|revol_bal|revol_util|total_acc|initial_list_status|out_prncp|out_prncp_inv|total_pymnt|total_pymnt_inv|total_rec_prncp|total_rec_int|total_rec_late_fee|recoveries|collection_recovery_fee|last_pymnt_d|last_pymnt_amnt|next_pymnt_d|last_credit_pull_d|collections_12_mths_ex_med|mths_since_last_major_derog|policy_code|application_type|annual_inc_joint|dti_joint|verification_status_joint|acc_now_delinq|tot_coll_amt|tot_cur_bal|open_acc_6m|open_act_il|open_il_12m|open_il_24m|mths_since_rcnt_il|total_bal_il|il_util|open_rv_12m|open_rv_24m|max_bal_bc|all_util|total_rev_hi_lim|inq_fi|total_cu_tl|inq_last_12m|acc_open_past_24mths|avg_cur_bal|bc_open_to_buy|bc_util|chargeoff_within_12_mths|delinq_amnt|mo_sin_old_il_acct|mo_sin_old_rev_tl_op|mo_sin_rcnt_rev_tl_op|mo_sin_rcnt_tl|mort_acc|mths_since_recent_bc|mths_since_recent_bc_dlq|mths_since_recent_inq|mths_since_recent_revol_delinq|num_accts_ever_120_pd|num_actv_bc_tl|num_actv_rev_tl|num_bc_sats|num_bc_tl|num_il_tl|num_op_rev_tl|num_rev_accts|num_rev_tl_bal_gt_0|num_sats|num_tl_120dpd_2m|num_tl_30dpd|num_tl_90g_dpd_24m|num_tl_op_past_12m|pct_tl_nvr_dlq|percent_bc_gt_75|pub_rec_bankruptcies|tax_liens|tot_hi_cred_lim|total_bal_ex_mort|total_bc_limit|total_il_high_credit_limit|revol_bal_joint|sec_app_earliest_cr_line|sec_app_inq_last_6mths|sec_app_mort_acc|sec_app_open_acc|sec_app_revol_util|sec_app_open_act_il|sec_app_num_rev_accts|sec_app_chargeoff_within_12_mths|sec_app_collections_12_mths_ex_med|sec_app_mths_since_last_major_derog|hardship_flag|hardship_type|hardship_reason|hardship_status|deferral_term|hardship_amount|hardship_start_date|hardship_end_date|payment_plan_start_date|hardship_length|hardship_dpd|hardship_loan_status|orig_projected_additional_accrued_interest|hardship_payoff_balance_amount|hardship_last_payment_amount|disbursement_method|debt_settlement_flag|debt_settlement_flag_date|settlement_status|settlement_date|settlement_amount|settlement_percentage|settlement_term|\n",
            "+----+---------+---------+-----------+---------------+----------+--------+-----------+-----+---------+--------------------+----------+--------------+----------+-------------------+-------+-----------+----------+----+----+------------------+--------------------+--------+----------+-----+-----------+----------------+--------------+----------------------+----------------------+--------+-------+---------+----------+---------+-------------------+---------+-------------+-----------+---------------+---------------+-------------+------------------+----------+-----------------------+------------+---------------+------------+------------------+--------------------------+---------------------------+-----------+----------------+----------------+---------+-------------------------+--------------+------------+-----------+-----------+-----------+-----------+-----------+------------------+------------+-------+-----------+-----------+----------+--------+----------------+------+-----------+------------+--------------------+-----------+--------------+-------+------------------------+-----------+------------------+--------------------+---------------------+--------------+--------+--------------------+------------------------+---------------------+------------------------------+---------------------+--------------+---------------+-----------+---------+---------+-------------+-------------+-------------------+--------+----------------+------------+------------------+------------------+--------------+----------------+--------------------+---------+---------------+-----------------+--------------+--------------------------+---------------+------------------------+----------------------+----------------+----------------+------------------+-------------------+---------------------+--------------------------------+----------------------------------+-----------------------------------+-------------+-------------+---------------+---------------+-------------+---------------+-------------------+-----------------+-----------------------+---------------+------------+--------------------+------------------------------------------+------------------------------+----------------------------+-------------------+--------------------+-------------------------+-----------------+---------------+-----------------+---------------------+---------------+\n",
            "|null|     null|    10000|      10000|        10000.0| 36 months|  10.33%|     324.23|    B|       B1|                null|  < 1 year|      MORTGAGE|  280000.0|       Not Verified| Dec-18|    Current|         n|null|null|debt_consolidation|  Debt consolidation|   974xx|        OR| 6.15|          2|          Jan-96|             0|                    18|                  null|      14|      0|     9082|       38%|       23|                  w|  9521.66|      9521.66|     639.85|         639.85|         478.34|       161.51|               0.0|       0.0|                    0.0|      Feb-19|         324.23|      Apr-19|            Mar-19|                         0|                       null|          1|      Individual|            null|     null|                     null|             0|         671|     246828|          1|          3|          2|          3|                 1|       48552|     62|          1|          3|      4923|      46|           23900|     2|          7|           1|                   7|      17631|         11897|   43.1|                       0|          0|               158|                 275|                   11|             1|       1|                  11|                    null|                   11|                          null|                    0|             3|              4|          7|        7|       10|            9|           11|                  4|      14|               0|           0|                 0|                 4|          91.3|            28.6|                   0|        0|         367828|            61364|         20900|                     54912|           null|                    null|                  null|            null|            null|              null|               null|                 null|                            null|                              null|                               null|            N|         null|           null|           null|         null|           null|               null|             null|                   null|           null|        null|                null|                                      null|                          null|                        null|          DirectPay|                   N|                     null|             null|           null|             null|                 null|           null|\n",
            "|null|     null|     2500|       2500|         2500.0| 36 months|  13.56%|      84.92|    C|       C1|                Chef| 10+ years|          RENT|   55000.0|       Not Verified| Dec-18|    Current|         n|null|null|debt_consolidation|  Debt consolidation|   109xx|        NY|18.24|          0|          Apr-01|             1|                  null|                    45|       9|      1|     4341|    10.30%|       34|                  w|  2386.02|      2386.02|     167.02|         167.02|         113.98|        53.04|               0.0|       0.0|                    0.0|      Feb-19|          84.92|      Apr-19|            Mar-19|                         0|                       null|          1|      Individual|            null|     null|                     null|             0|           0|      16901|          2|          2|          1|          2|                 2|       12560|     69|          2|          7|      2137|      28|           42000|     1|         11|           2|                   9|       1878|         34360|    5.9|                       0|          0|               140|                 212|                    1|             1|       0|                   1|                    null|                    2|                          null|                    0|             2|              5|          3|        3|       16|            7|           18|                  5|       9|               0|           0|                 0|                 3|         100.0|             0.0|                   1|        0|          60124|            16901|         36500|                     18124|           null|                    null|                  null|            null|            null|              null|               null|                 null|                            null|                              null|                               null|            N|         null|           null|           null|         null|           null|               null|             null|                   null|           null|        null|                null|                                      null|                          null|                        null|               Cash|                   N|                     null|             null|           null|             null|                 null|           null|\n",
            "|null|     null|    12000|      12000|        12000.0| 60 months|  13.56%|     276.49|    C|       C1|                null|  < 1 year|      MORTGAGE|   40000.0|       Not Verified| Dec-18|    Current|         n|null|null|debt_consolidation|  Debt consolidation|   180xx|        PA|19.23|          0|          Aug-05|             2|                  null|                  null|       8|      0|    23195|    55.50%|        9|                  w| 11716.63|     11716.63|     539.42|         539.42|         283.37|       256.05|               0.0|       0.0|                    0.0|      Feb-19|         276.49|      Apr-19|            Mar-19|                         0|                       null|          1|      Individual|            null|     null|                     null|             0|           0|      32462|          1|          1|          1|          1|                 4|        9267|    103|          2|          2|      9747|      64|           41800|     1|          0|           3|                   3|       4058|         16601|   54.9|                       0|          0|                 4|                 149|                    9|             4|       1|                  10|                    null|                    4|                          null|                    0|             5|              6|          5|        5|        1|            7|            7|                  6|       8|               0|           0|                 0|                 3|         100.0|            60.0|                   0|        0|          50800|            32462|         36800|                      9000|           null|                    null|                  null|            null|            null|              null|               null|                 null|                            null|                              null|                               null|            N|         null|           null|           null|         null|           null|               null|             null|                   null|           null|        null|                null|                                      null|                          null|                        null|               Cash|                   N|                     null|             null|           null|             null|                 null|           null|\n",
            "|null|     null|    15000|      15000|        14975.0| 60 months|  14.47%|     352.69|    C|       C2|                null|       n/a|      MORTGAGE|   30000.0|    Source Verified| Dec-18|    Current|         n|null|null|debt_consolidation|  Debt consolidation|   756xx|        TX| 41.6|          0|          Oct-99|             0|                  null|                  null|      20|      0|    20049|    37.20%|       30|                  f| 14654.57|     14630.15|     687.29|         686.14|         345.43|       341.86|               0.0|       0.0|                    0.0|      Feb-19|         352.69|      Apr-19|            Mar-19|                         0|                       null|          1|       Joint App|         55000.0|    34.95|          Source Verified|             0|           0|      65496|          1|          1|          0|          1|                16|        4458|     31|          1|          1|      3616|      36|           53900|     0|          2|           0|                   2|       3275|          2545|   74.3|                       0|          0|               149|                 230|                    6|             6|       1|                  31|                    null|                 null|                          null|                    0|             4|             13|          4|        5|        8|           18|           21|                 13|      20|               0|           0|                 0|                 1|         100.0|            50.0|                   0|        0|         118790|            24507|          9900|                     14490|          29704|                  Oct-99|                     0|               0|              16|              48.8|                  0|                   15|                               0|                                 0|                               null|            N|         null|           null|           null|         null|           null|               null|             null|                   null|           null|        null|                null|                                      null|                          null|                        null|               Cash|                   N|                     null|             null|           null|             null|                 null|           null|\n",
            "|null|     null|    16000|      16000|        16000.0| 60 months|  17.97%|     406.04|    D|       D1|Instructional Coo...|   5 years|      MORTGAGE|   51000.0|       Not Verified| Dec-18|    Current|         n|null|null|debt_consolidation|  Debt consolidation|   284xx|        NC|21.91|          0|          Oct-05|             1|                    52|                  null|      11|      0|     7326|    24.80%|       27|                  w| 15664.63|     15664.63|     788.12|         788.12|         335.37|       452.75|               0.0|       0.0|                    0.0|      Feb-19|         406.04|      Apr-19|            Mar-19|                         0|                         52|          1|      Individual|            null|     null|                     null|             0|           0|      39339|          3|          8|          2|          2|                 2|       32013|     83|          1|          1|      3881|      58|           29500|     0|          0|           1|                   3|       3576|         22174|   24.8|                       0|          0|               123|                 158|                    6|             2|       0|                   6|                      52|                    4|                            52|                    6|             2|              2|          3|        6|       21|            3|            6|                  2|      11|               0|           0|                 0|                 3|          77.8|             0.0|                   0|        0|          67924|            39339|         29500|                     38424|           null|                    null|                  null|            null|            null|              null|               null|                 null|                            null|                              null|                               null|            N|         null|           null|           null|         null|           null|               null|             null|                   null|           null|        null|                null|                                      null|                          null|                        null|               Cash|                   N|                     null|             null|           null|             null|                 null|           null|\n",
            "|null|     null|     9600|       9600|         9600.0| 36 months|  23.40%|     373.62|    E|       E1| driver coordinator |   9 years|          RENT|   65000.0|       Not Verified| Dec-18|    Current|         n|null|null|       credit_card|Credit card refin...|   265xx|        WV|23.01|          1|          Sep-03|             0|                    16|                  null|      12|      0|    10678|    37.50%|       20|                  f|  9223.52|      9223.52|     728.52|         728.52|         376.48|       352.04|               0.0|       0.0|                    0.0|      Feb-19|         373.62|      Apr-19|            Mar-19|                         0|                       null|          1|      Individual|            null|     null|                     null|             0|          66|      24165|          0|          2|          0|          0|                43|       13487|     33|          1|          1|      2264|      35|           28500|     0|          0|           0|                   1|       2014|           232|   96.9|                       0|          0|               183|                  92|                   12|            12|       0|                  27|                    null|                   15|                            30|                    0|             7|              9|          7|        8|        8|           10|           12|                  9|      12|               0|           0|                 0|                 1|          90.0|            85.7|                   0|        0|          68902|            24165|          7600|                     40402|           null|                    null|                  null|            null|            null|              null|               null|                 null|                            null|                              null|                               null|            N|         null|           null|           null|         null|           null|               null|             null|                   null|           null|        null|                null|                                      null|                          null|                        null|               Cash|                   N|                     null|             null|           null|             null|                 null|           null|\n",
            "|null|     null|     4000|       4000|         4000.0| 36 months|  23.40%|     155.68|    E|       E1|            Security|   3 years|          RENT|   90000.0|    Source Verified| Dec-18|    Current|         n|null|null|debt_consolidation|  Debt consolidation|   070xx|        NJ|26.33|          0|          Sep-06|             4|                    59|                  null|      15|      0|     5199|    19.20%|       20|                  w|  3843.13|      3843.13|     303.56|         303.56|         156.87|       146.69|               0.0|       0.0|                    0.0|      Feb-19|         155.68|      Apr-19|            Mar-19|                         0|                       null|          1|      Individual|            null|     null|                     null|             0|           0|      66926|          5|          4|          3|          4|                 5|       61727|     86|          6|         11|      1353|      68|           27100|     4|          0|           4|                  15|       4462|         20174|    7.9|                       0|          0|               147|                 118|                    2|             2|       0|                   2|                    null|                    0|                          null|                    0|             5|              7|          9|        9|        8|           11|           12|                  7|      15|               0|           0|                 0|                 9|          95.0|             0.0|                   0|        0|          98655|            66926|         21900|                     71555|           null|                    null|                  null|            null|            null|              null|               null|                 null|                            null|                              null|                               null|            N|         null|           null|           null|         null|           null|               null|             null|                   null|           null|        null|                null|                                      null|                          null|                        null|               Cash|                   N|                     null|             null|           null|             null|                 null|           null|\n",
            "|null|     null|     3500|       3500|         3500.0| 36 months|  20.89%|     131.67|    D|       D4|       gas attendant| 10+ years|      MORTGAGE|   40000.0|    Source Verified| Dec-18|    Current|         n|null|null|               car|       Car financing|   078xx|        NJ| 9.09|          0|          Oct-04|             1|                    24|                  null|       4|      0|     1944|    33.50%|       18|                  w|  3357.29|      3357.29|     257.25|         257.25|         142.71|       114.54|               0.0|       0.0|                    0.0|      Feb-19|         131.67|      Apr-19|            Mar-19|                         0|                         48|          1|       Joint App|         59500.0|    10.59|          Source Verified|             0|           0|     189794|          1|          1|          1|          1|                 7|       24958|    100|          2|          2|      1317|      87|            5800|     1|          0|           3|                   3|      47449|          3683|   26.3|                       0|          0|               150|                 170|                    1|             1|       4|                   8|                      48|                    1|                            48|                    2|             1|              2|          1|        8|        3|            2|           11|                  2|       4|               0|           0|                 0|                 3|          38.9|             0.0|                   0|        0|         217000|            26902|          5000|                     25000|           6902|                  May-03|                     0|               3|               6|              47.9|                  0|                   21|                               0|                                 0|                                 46|            N|         null|           null|           null|         null|           null|               null|             null|                   null|           null|        null|                null|                                      null|                          null|                        null|               Cash|                   N|                     null|             null|           null|             null|                 null|           null|\n",
            "|null|     null|     9600|       9600|         9600.0| 36 months|  12.98%|     323.37|    B|       B5|                null|       n/a|      MORTGAGE|   35704.0|       Not Verified| Dec-18|    Current|         n|null|null|  home_improvement|    Home improvement|   401xx|        KY| 0.84|          0|          Nov-03|             0|                    69|                  null|       5|      0|      748|    11.50%|       23|                  w|  9158.56|      9158.56|     670.98|         670.98|         441.44|       229.54|               0.0|       0.0|                    0.0|      Mar-19|         323.37|      Apr-19|            Mar-19|                         0|                       null|          1|      Individual|            null|     null|                     null|             0|           0|        748|          0|          0|          0|          0|                44|           0|   null|          0|          3|       748|      12|            6500|     0|          0|           1|                   3|        150|          3452|   17.8|                       0|          0|               181|                 100|                   13|            13|       0|                  16|                    null|                    3|                          null|                    0|             1|              1|          2|        2|       16|            5|            7|                  1|       5|               0|           0|                 0|                 0|          95.5|             0.0|                   0|        0|           6500|              748|          4200|                         0|           null|                    null|                  null|            null|            null|              null|               null|                 null|                            null|                              null|                               null|            N|         null|           null|           null|         null|           null|               null|             null|                   null|           null|        null|                null|                                      null|                          null|                        null|               Cash|                   N|                     null|             null|           null|             null|                 null|           null|\n",
            "|null|     null|     8000|       8000|         8000.0| 36 months|  23.40%|     311.35|    E|       E1|             Manager| 10+ years|           OWN|   43000.0|    Source Verified| Dec-18|    Current|         n|null|null|debt_consolidation|  Debt consolidation|   357xx|        AL|33.24|          0|          Jan-95|             0|                  null|                   107|       8|      1|     9019|    81.30%|       16|                  w|  7686.27|      7686.27|      607.1|          607.1|         313.73|       293.37|               0.0|       0.0|                    0.0|      Feb-19|         311.35|      Apr-19|            Mar-19|                         0|                       null|          1|      Individual|            null|     null|                     null|             0|           0|     169223|          0|          3|          2|          2|                 7|       22059|     69|          0|          0|      2174|      72|           11100|     1|          1|           1|                   2|      21153|           126|   94.5|                       0|          0|               148|                 287|                   44|             7|       1|                  51|                    null|                    7|                          null|                    0|             1|              4|          1|        2|        8|            4|            7|                  4|       8|               0|           0|                 0|                 2|         100.0|           100.0|                   1|        0|         199744|            31078|          2300|                     32206|           null|                    null|                  null|            null|            null|              null|               null|                 null|                            null|                              null|                               null|            N|         null|           null|           null|         null|           null|               null|             null|                   null|           null|        null|                null|                                      null|                          null|                        null|               Cash|                   N|                     null|             null|           null|             null|                 null|           null|\n",
            "|null|     null|    16000|      16000|        16000.0| 60 months|  26.31%|     481.99|    E|       E4|Financial Relatio...|  < 1 year|          RENT|   33000.0|    Source Verified| Dec-18|    Current|         n|null|null|       credit_card|Credit card refin...|   290xx|        SC|33.62|          0|          Sep-10|             1|                  null|                  null|      17|      0|    22872|    65.50%|       22|                  w| 15734.74|     15734.74|      928.9|          928.9|         265.26|       663.64|               0.0|       0.0|                    0.0|      Feb-19|         481.99|      Apr-19|            Mar-19|                         0|                       null|          1|      Individual|            null|     null|                     null|             0|           0|      29869|          1|          1|          0|          1|                24|        6997|     65|          1|          1|      2703|      65|           34900|     0|          3|           1|                   2|       1757|          4596|   66.9|                       0|          0|                29|                  99|                    2|             2|       0|                   2|                    null|                    3|                          null|                    0|             6|             11|          9|       13|        2|           16|           20|                 11|      17|               0|           0|                 0|                 1|         100.0|            55.6|                   0|        0|          45709|            29869|         13900|                     10809|           null|                    null|                  null|            null|            null|              null|               null|                 null|                            null|                              null|                               null|            N|         null|           null|           null|         null|           null|               null|             null|                   null|           null|        null|                null|                                      null|                          null|                        null|               Cash|                   N|                     null|             null|           null|             null|                 null|           null|\n",
            "|null|     null|    30000|      30000|        30000.0| 60 months|  18.94%|     777.23|    D|       D2|         Postmaster | 10+ years|      MORTGAGE|   90000.0|    Source Verified| Dec-18|    Current|         n|null|null|debt_consolidation|  Debt consolidation|   713xx|        LA|26.52|          0|          Jun-87|             0|                    71|                    75|      13|      1|    12315|    24.20%|       44|                  w| 29387.75|     29387.75|    1507.11|        1507.11|         612.25|       894.86|               0.0|       0.0|                    0.0|      Feb-19|         777.23|      Apr-19|            Mar-19|                         0|                       null|          1|      Individual|            null|     null|                     null|             0|        1208|     321915|          4|          4|          2|          3|                 3|       87153|     88|          4|          5|       998|      57|           50800|     2|         15|           2|                  10|      24763|         13761|    8.3|                       0|          0|               163|                 378|                    4|             3|       3|                   4|                    null|                    4|                          null|                    0|             2|              4|          4|        9|       27|            8|           14|                  4|      13|               0|           0|                 0|                 6|          95.0|             0.0|                   1|        0|         372872|            99468|         15000|                     94072|           null|                    null|                  null|            null|            null|              null|               null|                 null|                            null|                              null|                               null|            N|         null|           null|           null|         null|           null|               null|             null|                   null|           null|        null|                null|                                      null|                          null|                        null|               Cash|                   N|                     null|             null|           null|             null|                 null|           null|\n",
            "|null|     null|    10000|      10000|        10000.0| 60 months|  19.92%|      264.5|    D|       D3|    Material Handler| 10+ years|      MORTGAGE|   80000.0|       Not Verified| Dec-18|    Current|         n|null|null|debt_consolidation|  Debt consolidation|   648xx|        MO|20.67|          0|          Apr-05|             0|                    37|                  null|      11|      0|    13198|    73.70%|       19|                  w|  9801.36|      9801.36|      512.4|          512.4|         198.64|       313.76|               0.0|       0.0|                    0.0|      Feb-19|          264.5|      Apr-19|            Mar-19|                         0|                         37|          1|      Individual|            null|     null|                     null|             0|         116|     110120|          0|          2|          0|          1|                15|       24408|     70|          1|          1|      6521|      72|           17900|     0|          0|           1|                   2|      10011|           779|   90.3|                       0|          0|               148|                 164|                   11|            11|       1|                 149|                      37|                   11|                            37|                    0|             2|              8|          2|        4|        6|            8|           12|                  8|      11|               0|           0|                 0|                 1|          84.2|            50.0|                   0|        0|         170230|            37606|          8000|                     55030|           null|                    null|                  null|            null|            null|              null|               null|                 null|                            null|                              null|                               null|            N|         null|           null|           null|         null|           null|               null|             null|                   null|           null|        null|                null|                                      null|                          null|                        null|               Cash|                   N|                     null|             null|           null|             null|                 null|           null|\n",
            "|null|     null|     5000|       5000|         5000.0| 36 months|  17.97%|     180.69|    D|       D1|      Administrative|   6 years|      MORTGAGE|   59280.0|    Source Verified| Dec-18|    Current|         n|null|null|debt_consolidation|  Debt consolidation|   490xx|        MI|10.51|          0|          Apr-11|             0|                  null|                  null|       8|      0|     4599|    19.10%|       13|                  w|  4787.21|      4787.21|     353.89|         353.89|         212.79|        141.1|               0.0|       0.0|                    0.0|      Feb-19|         180.69|      Apr-19|            Mar-19|                         0|                       null|          1|      Individual|            null|     null|                     null|             0|           0|     110299|          0|          1|          0|          2|                14|        7150|     72|          0|          2|         0|      35|           24100|     1|          5|           0|                   4|      18383|         13800|    0.0|                       0|          0|                87|                  92|                   15|            14|       2|                  77|                    null|                   14|                          null|                    0|             0|              3|          3|        3|        4|            6|            7|                  3|       8|               0|           0|                 0|                 0|         100.0|             0.0|                   0|        0|         136927|            11749|         13800|                     10000|           null|                    null|                  null|            null|            null|              null|               null|                 null|                            null|                              null|                               null|            N|         null|           null|           null|         null|           null|               null|             null|                   null|           null|        null|                null|                                      null|                          null|                        null|               Cash|                   N|                     null|             null|           null|             null|                 null|           null|\n",
            "|null|     null|    23000|      23000|        23000.0| 60 months|  20.89%|     620.81|    D|       D4|            Operator|   5 years|          RENT|   68107.0|    Source Verified| Dec-18|    Current|         n|null|null|debt_consolidation|  Debt consolidation|   672xx|        KS| 0.52|          0|          Feb-97|             0|                  null|                  null|       5|      0|      976|       13%|       10|                  w| 22553.51|     22553.51|     1203.4|         1203.4|         446.49|       756.91|               0.0|       0.0|                    0.0|      Mar-19|         622.63|      Apr-19|            Mar-19|                         1|                       null|          1|      Individual|            null|     null|                     null|             0|        2693|        976|          0|          0|          0|          0|                36|           0|   null|          3|          4|         0|      13|            7500|     2|          2|           4|                   4|        195|          3300|    0.0|                       0|          0|               237|                 262|                   10|            10|       0|                  10|                    null|                    9|                          null|                    0|             0|              1|          3|        4|        3|            5|            7|                  1|       5|               0|           0|                 0|                 3|         100.0|             0.0|                   0|        0|           7500|              976|          3300|                         0|           null|                    null|                  null|            null|            null|              null|               null|                 null|                            null|                              null|                               null|            N|         null|           null|           null|         null|           null|               null|             null|                   null|           null|        null|                null|                                      null|                          null|                        null|               Cash|                   N|                     null|             null|           null|             null|                 null|           null|\n",
            "|null|     null|    32075|      32075|        32075.0| 60 months|  11.80%|     710.26|    B|       B4|  Nursing Supervisor| 10+ years|      MORTGAGE|  150000.0|       Not Verified| Dec-18|    Current|         n|null|null|       credit_card|Credit card refin...|   231xx|        VA|22.21|          0|          Aug-05|             0|                  null|                  null|      17|      0|    19077|       32%|       24|                  w| 31281.41|     31281.41|    1388.98|        1388.98|         793.59|       595.39|               0.0|       0.0|                    0.0|      Feb-19|         710.26|      Apr-19|            Mar-19|                         0|                       null|          1|      Individual|            null|     null|                     null|             0|           0|     272667|          1|          4|          1|          1|                 9|       37558|     47|          1|          1|      3910|      41|           59600|     1|          2|           0|                   3|      16039|         10446|   47.8|                       0|          0|               160|                  70|                    4|             4|       2|                  27|                    null|                   14|                          null|                    0|             4|             10|          4|        4|        8|           12|           14|                 10|      17|               0|           0|                 0|                 2|         100.0|            50.0|                   0|        0|         360433|            56635|         20000|                     80125|           null|                    null|                  null|            null|            null|              null|               null|                 null|                            null|                              null|                               null|            N|         null|           null|           null|         null|           null|               null|             null|                   null|           null|        null|                null|                                      null|                          null|                        null|               Cash|                   N|                     null|             null|           null|             null|                 null|           null|\n",
            "|null|     null|    13000|      13000|        13000.0| 36 months|  23.40%|     505.95|    E|       E1| Sale Representative|   2 years|      MORTGAGE|   90000.0|           Verified| Dec-18|    Current|         n|null|null|             other|               Other|   191xx|        PA|39.73|          0|          May-07|             0|                  null|                  null|      14|      0|    52013|    83.10%|       20|                  w| 12490.18|     12490.18|     986.55|         986.55|         509.82|       476.73|               0.0|       0.0|                    0.0|      Feb-19|         505.95|      Apr-19|            Mar-19|                         0|                       null|          1|      Individual|            null|     null|                     null|             0|           0|      87876|          1|          7|          1|          3|                 1|       35863|     48|          0|          1|     18037|      64|           62600|     2|          0|           1|                   4|       6277|          9503|   83.8|                       0|          0|               131|                 139|                   16|             1|       0|                  16|                    null|                   10|                          null|                    0|             6|              7|          6|        7|       11|            7|            9|                  7|      14|               0|           0|                 0|                 1|         100.0|            66.7|                   0|        0|         137276|            87876|         58600|                     74676|           null|                    null|                  null|            null|            null|              null|               null|                 null|                            null|                              null|                               null|            N|         null|           null|           null|         null|           null|               null|             null|                   null|           null|        null|                null|                                      null|                          null|                        null|               Cash|                   N|                     null|             null|           null|             null|                 null|           null|\n",
            "|null|     null|    35000|      35000|        35000.0| 60 months|  15.02%|     833.02|    C|       C3|    Sr Sales Manager| 10+ years|      MORTGAGE|  290000.0|    Source Verified| Dec-18|    Current|         n|null|null|debt_consolidation|  Debt consolidation|   656xx|        MO|  7.6|          0|          Dec-04|             0|                    29|                  null|      15|      0|    29416|    93.70%|       33|                  w| 34205.18|     34205.18|    1622.23|        1622.23|         794.82|       827.41|               0.0|       0.0|                    0.0|      Feb-19|         833.02|      Apr-19|            Mar-19|                         1|                         42|          1|      Individual|            null|     null|                     null|             0|         149|     479986|          1|          8|          0|          2|                17|       58023|     58|          0|          1|     12297|      75|           31400|     0|          0|           2|                   4|      31999|          1038|   95.2|                       0|          0|               168|                 167|                   22|             6|       3|                  22|                      42|                    8|                            29|                    0|             3|              4|          3|        8|       17|            6|           13|                  4|      15|               0|           0|                 0|                 1|          87.9|           100.0|                   0|        0|         513173|            87439|         21600|                     82773|           null|                    null|                  null|            null|            null|              null|               null|                 null|                            null|                              null|                               null|            N|         null|           null|           null|         null|           null|               null|             null|                   null|           null|        null|                null|                                      null|                          null|                        null|          DirectPay|                   N|                     null|             null|           null|             null|                 null|           null|\n",
            "|null|     null|    40000|      40000|        40000.0| 60 months|  11.31%|      875.9|    B|       B3|                null|  < 1 year|      MORTGAGE|  136000.0|       Not Verified| Dec-18|    Current|         n|null|null|debt_consolidation|  Debt consolidation|   480xx|        MI|15.41|          0|          Apr-06|             0|                    72|                  null|      12|      0|    34283|       81%|       22|                  w|  38997.5|      38997.5|     1714.1|         1714.1|         1002.5|        711.6|               0.0|       0.0|                    0.0|      Feb-19|          875.9|      Apr-19|            Mar-19|                         0|                       null|          1|      Individual|            null|     null|                     null|             0|           0|     149597|          1|          2|          0|          1|                14|       27860|     66|          2|          2|      9618|      73|           42300|     0|          0|           0|                   3|      12466|          2589|   89.6|                       0|          0|               123|                 132|                    1|             1|       3|                  40|                    null|                   15|                          null|                    0|             3|              8|          4|        8|        5|            9|           14|                  8|      12|               0|           0|                 0|                 2|          86.4|            75.0|                   0|        0|         179159|            62143|         25000|                     42409|           null|                    null|                  null|            null|            null|              null|               null|                 null|                            null|                              null|                               null|            N|         null|           null|           null|         null|           null|               null|             null|                   null|           null|        null|                null|                                      null|                          null|                        null|          DirectPay|                   N|                     null|             null|           null|             null|                 null|           null|\n",
            "|null|     null|     8000|       8000|         8000.0| 36 months|  10.33%|     259.38|    B|       B1|            Optician|   6 years|      MORTGAGE|   38000.0|    Source Verified| Dec-18|    Current|         n|null|null|       credit_card|Credit card refin...|   159xx|        PA|19.84|          0|          Feb-03|             1|                    49|                  null|      14|      0|     9394|    37.60%|       25|                  w|  7617.33|      7617.33|     511.87|         511.87|         382.67|        129.2|               0.0|       0.0|                    0.0|      Feb-19|         259.38|      Apr-19|            Mar-19|                         0|                         52|          1|      Individual|            null|     null|                     null|             0|           0|      83139|          4|          1|          2|          2|                 5|       22240|     95|          4|          5|      6410|      65|           25000|     2|          0|           8|                   8|       5939|          6188|   57.6|                       0|          0|               167|                 133|                    1|             1|       3|                   2|                    null|                    1|                          null|                    1|             4|              8|          4|        6|        6|           12|           16|                  8|      14|               0|           0|                 0|                 7|          95.7|            25.0|                   0|        0|         100250|            31634|         14600|                     23358|           null|                    null|                  null|            null|            null|              null|               null|                 null|                            null|                              null|                               null|            N|         null|           null|           null|         null|           null|               null|             null|                   null|           null|        null|                null|                                      null|                          null|                        null|          DirectPay|                   N|                     null|             null|           null|             null|                 null|           null|\n",
            "+----+---------+---------+-----------+---------------+----------+--------+-----------+-----+---------+--------------------+----------+--------------+----------+-------------------+-------+-----------+----------+----+----+------------------+--------------------+--------+----------+-----+-----------+----------------+--------------+----------------------+----------------------+--------+-------+---------+----------+---------+-------------------+---------+-------------+-----------+---------------+---------------+-------------+------------------+----------+-----------------------+------------+---------------+------------+------------------+--------------------------+---------------------------+-----------+----------------+----------------+---------+-------------------------+--------------+------------+-----------+-----------+-----------+-----------+-----------+------------------+------------+-------+-----------+-----------+----------+--------+----------------+------+-----------+------------+--------------------+-----------+--------------+-------+------------------------+-----------+------------------+--------------------+---------------------+--------------+--------+--------------------+------------------------+---------------------+------------------------------+---------------------+--------------+---------------+-----------+---------+---------+-------------+-------------+-------------------+--------+----------------+------------+------------------+------------------+--------------+----------------+--------------------+---------+---------------+-----------------+--------------+--------------------------+---------------+------------------------+----------------------+----------------+----------------+------------------+-------------------+---------------------+--------------------------------+----------------------------------+-----------------------------------+-------------+-------------+---------------+---------------+-------------+---------------+-------------------+-----------------+-----------------------+---------------+------------+--------------------+------------------------------------------+------------------------------+----------------------------+-------------------+--------------------+-------------------------+-----------------+---------------+-----------------+---------------------+---------------+\n",
            "only showing top 20 rows\n",
            "\n"
          ]
        }
      ]
    },
    {
      "cell_type": "markdown",
      "source": [
        "Data Aggregation"
      ],
      "metadata": {
        "id": "05NbmJyLlFmo"
      }
    },
    {
      "cell_type": "code",
      "source": [
        "df.printSchema()"
      ],
      "metadata": {
        "colab": {
          "base_uri": "https://localhost:8080/"
        },
        "id": "KcXU7ppHkL_B",
        "outputId": "7fb3e6cf-5588-4a48-be5c-f65af9918d9d"
      },
      "execution_count": null,
      "outputs": [
        {
          "output_type": "stream",
          "name": "stdout",
          "text": [
            "root\n",
            " |-- id: string (nullable = true)\n",
            " |-- member_id: string (nullable = true)\n",
            " |-- loan_amnt: integer (nullable = true)\n",
            " |-- funded_amnt: integer (nullable = true)\n",
            " |-- funded_amnt_inv: double (nullable = true)\n",
            " |-- term: string (nullable = true)\n",
            " |-- int_rate: string (nullable = true)\n",
            " |-- installment: double (nullable = true)\n",
            " |-- grade: string (nullable = true)\n",
            " |-- sub_grade: string (nullable = true)\n",
            " |-- emp_title: string (nullable = true)\n",
            " |-- emp_length: string (nullable = true)\n",
            " |-- home_ownership: string (nullable = true)\n",
            " |-- annual_inc: double (nullable = true)\n",
            " |-- verification_status: string (nullable = true)\n",
            " |-- issue_d: string (nullable = true)\n",
            " |-- loan_status: string (nullable = true)\n",
            " |-- pymnt_plan: string (nullable = true)\n",
            " |-- url: string (nullable = true)\n",
            " |-- desc: string (nullable = true)\n",
            " |-- purpose: string (nullable = true)\n",
            " |-- title: string (nullable = true)\n",
            " |-- zip_code: string (nullable = true)\n",
            " |-- addr_state: string (nullable = true)\n",
            " |-- dti: double (nullable = true)\n",
            " |-- delinq_2yrs: integer (nullable = true)\n",
            " |-- earliest_cr_line: string (nullable = true)\n",
            " |-- inq_last_6mths: integer (nullable = true)\n",
            " |-- mths_since_last_delinq: integer (nullable = true)\n",
            " |-- mths_since_last_record: integer (nullable = true)\n",
            " |-- open_acc: integer (nullable = true)\n",
            " |-- pub_rec: integer (nullable = true)\n",
            " |-- revol_bal: integer (nullable = true)\n",
            " |-- revol_util: string (nullable = true)\n",
            " |-- total_acc: integer (nullable = true)\n",
            " |-- initial_list_status: string (nullable = true)\n",
            " |-- out_prncp: double (nullable = true)\n",
            " |-- out_prncp_inv: double (nullable = true)\n",
            " |-- total_pymnt: double (nullable = true)\n",
            " |-- total_pymnt_inv: double (nullable = true)\n",
            " |-- total_rec_prncp: double (nullable = true)\n",
            " |-- total_rec_int: double (nullable = true)\n",
            " |-- total_rec_late_fee: double (nullable = true)\n",
            " |-- recoveries: double (nullable = true)\n",
            " |-- collection_recovery_fee: double (nullable = true)\n",
            " |-- last_pymnt_d: string (nullable = true)\n",
            " |-- last_pymnt_amnt: double (nullable = true)\n",
            " |-- next_pymnt_d: string (nullable = true)\n",
            " |-- last_credit_pull_d: string (nullable = true)\n",
            " |-- collections_12_mths_ex_med: integer (nullable = true)\n",
            " |-- mths_since_last_major_derog: integer (nullable = true)\n",
            " |-- policy_code: integer (nullable = true)\n",
            " |-- application_type: string (nullable = true)\n",
            " |-- annual_inc_joint: double (nullable = true)\n",
            " |-- dti_joint: double (nullable = true)\n",
            " |-- verification_status_joint: string (nullable = true)\n",
            " |-- acc_now_delinq: integer (nullable = true)\n",
            " |-- tot_coll_amt: integer (nullable = true)\n",
            " |-- tot_cur_bal: integer (nullable = true)\n",
            " |-- open_acc_6m: integer (nullable = true)\n",
            " |-- open_act_il: integer (nullable = true)\n",
            " |-- open_il_12m: integer (nullable = true)\n",
            " |-- open_il_24m: integer (nullable = true)\n",
            " |-- mths_since_rcnt_il: integer (nullable = true)\n",
            " |-- total_bal_il: integer (nullable = true)\n",
            " |-- il_util: integer (nullable = true)\n",
            " |-- open_rv_12m: integer (nullable = true)\n",
            " |-- open_rv_24m: integer (nullable = true)\n",
            " |-- max_bal_bc: integer (nullable = true)\n",
            " |-- all_util: integer (nullable = true)\n",
            " |-- total_rev_hi_lim: integer (nullable = true)\n",
            " |-- inq_fi: integer (nullable = true)\n",
            " |-- total_cu_tl: integer (nullable = true)\n",
            " |-- inq_last_12m: integer (nullable = true)\n",
            " |-- acc_open_past_24mths: integer (nullable = true)\n",
            " |-- avg_cur_bal: integer (nullable = true)\n",
            " |-- bc_open_to_buy: integer (nullable = true)\n",
            " |-- bc_util: double (nullable = true)\n",
            " |-- chargeoff_within_12_mths: integer (nullable = true)\n",
            " |-- delinq_amnt: integer (nullable = true)\n",
            " |-- mo_sin_old_il_acct: integer (nullable = true)\n",
            " |-- mo_sin_old_rev_tl_op: integer (nullable = true)\n",
            " |-- mo_sin_rcnt_rev_tl_op: integer (nullable = true)\n",
            " |-- mo_sin_rcnt_tl: integer (nullable = true)\n",
            " |-- mort_acc: integer (nullable = true)\n",
            " |-- mths_since_recent_bc: integer (nullable = true)\n",
            " |-- mths_since_recent_bc_dlq: integer (nullable = true)\n",
            " |-- mths_since_recent_inq: integer (nullable = true)\n",
            " |-- mths_since_recent_revol_delinq: integer (nullable = true)\n",
            " |-- num_accts_ever_120_pd: integer (nullable = true)\n",
            " |-- num_actv_bc_tl: integer (nullable = true)\n",
            " |-- num_actv_rev_tl: integer (nullable = true)\n",
            " |-- num_bc_sats: integer (nullable = true)\n",
            " |-- num_bc_tl: integer (nullable = true)\n",
            " |-- num_il_tl: integer (nullable = true)\n",
            " |-- num_op_rev_tl: integer (nullable = true)\n",
            " |-- num_rev_accts: integer (nullable = true)\n",
            " |-- num_rev_tl_bal_gt_0: integer (nullable = true)\n",
            " |-- num_sats: integer (nullable = true)\n",
            " |-- num_tl_120dpd_2m: integer (nullable = true)\n",
            " |-- num_tl_30dpd: integer (nullable = true)\n",
            " |-- num_tl_90g_dpd_24m: integer (nullable = true)\n",
            " |-- num_tl_op_past_12m: integer (nullable = true)\n",
            " |-- pct_tl_nvr_dlq: double (nullable = true)\n",
            " |-- percent_bc_gt_75: double (nullable = true)\n",
            " |-- pub_rec_bankruptcies: integer (nullable = true)\n",
            " |-- tax_liens: integer (nullable = true)\n",
            " |-- tot_hi_cred_lim: integer (nullable = true)\n",
            " |-- total_bal_ex_mort: integer (nullable = true)\n",
            " |-- total_bc_limit: integer (nullable = true)\n",
            " |-- total_il_high_credit_limit: integer (nullable = true)\n",
            " |-- revol_bal_joint: integer (nullable = true)\n",
            " |-- sec_app_earliest_cr_line: string (nullable = true)\n",
            " |-- sec_app_inq_last_6mths: integer (nullable = true)\n",
            " |-- sec_app_mort_acc: integer (nullable = true)\n",
            " |-- sec_app_open_acc: integer (nullable = true)\n",
            " |-- sec_app_revol_util: double (nullable = true)\n",
            " |-- sec_app_open_act_il: integer (nullable = true)\n",
            " |-- sec_app_num_rev_accts: integer (nullable = true)\n",
            " |-- sec_app_chargeoff_within_12_mths: integer (nullable = true)\n",
            " |-- sec_app_collections_12_mths_ex_med: integer (nullable = true)\n",
            " |-- sec_app_mths_since_last_major_derog: integer (nullable = true)\n",
            " |-- hardship_flag: string (nullable = true)\n",
            " |-- hardship_type: string (nullable = true)\n",
            " |-- hardship_reason: string (nullable = true)\n",
            " |-- hardship_status: string (nullable = true)\n",
            " |-- deferral_term: integer (nullable = true)\n",
            " |-- hardship_amount: double (nullable = true)\n",
            " |-- hardship_start_date: string (nullable = true)\n",
            " |-- hardship_end_date: string (nullable = true)\n",
            " |-- payment_plan_start_date: string (nullable = true)\n",
            " |-- hardship_length: integer (nullable = true)\n",
            " |-- hardship_dpd: integer (nullable = true)\n",
            " |-- hardship_loan_status: string (nullable = true)\n",
            " |-- orig_projected_additional_accrued_interest: double (nullable = true)\n",
            " |-- hardship_payoff_balance_amount: double (nullable = true)\n",
            " |-- hardship_last_payment_amount: double (nullable = true)\n",
            " |-- disbursement_method: string (nullable = true)\n",
            " |-- debt_settlement_flag: string (nullable = true)\n",
            " |-- debt_settlement_flag_date: string (nullable = true)\n",
            " |-- settlement_status: string (nullable = true)\n",
            " |-- settlement_date: string (nullable = true)\n",
            " |-- settlement_amount: integer (nullable = true)\n",
            " |-- settlement_percentage: double (nullable = true)\n",
            " |-- settlement_term: integer (nullable = true)\n",
            "\n"
          ]
        }
      ]
    },
    {
      "cell_type": "code",
      "source": [
        "#check how many rows are there in the dataset\n",
        "df.count()"
      ],
      "metadata": {
        "colab": {
          "base_uri": "https://localhost:8080/"
        },
        "id": "Lu9zL2_4pVyF",
        "outputId": "6b4fdc55-89ad-417e-ba36-f293ef021916"
      },
      "execution_count": null,
      "outputs": [
        {
          "output_type": "execute_result",
          "data": {
            "text/plain": [
              "128412"
            ]
          },
          "metadata": {},
          "execution_count": 5
        }
      ]
    },
    {
      "cell_type": "code",
      "source": [
        "#creating a temporary table to run the SQL queries.\n",
        "df.createOrReplaceTempView(\"loanstats\")"
      ],
      "metadata": {
        "id": "B1bPfaKkqQGD"
      },
      "execution_count": null,
      "outputs": []
    },
    {
      "cell_type": "code",
      "source": [
        "spark.sql(\"select * from loanstats\").show()"
      ],
      "metadata": {
        "colab": {
          "base_uri": "https://localhost:8080/"
        },
        "id": "Ex3w3nf3rPA3",
        "outputId": "5b180175-b4bf-456b-cd87-3f0ff1e3b8ad"
      },
      "execution_count": null,
      "outputs": [
        {
          "output_type": "stream",
          "name": "stdout",
          "text": [
            "+----+---------+---------+-----------+---------------+----------+--------+-----------+-----+---------+--------------------+----------+--------------+----------+-------------------+-------+-----------+----------+----+----+------------------+--------------------+--------+----------+-----+-----------+----------------+--------------+----------------------+----------------------+--------+-------+---------+----------+---------+-------------------+---------+-------------+-----------+---------------+---------------+-------------+------------------+----------+-----------------------+------------+---------------+------------+------------------+--------------------------+---------------------------+-----------+----------------+----------------+---------+-------------------------+--------------+------------+-----------+-----------+-----------+-----------+-----------+------------------+------------+-------+-----------+-----------+----------+--------+----------------+------+-----------+------------+--------------------+-----------+--------------+-------+------------------------+-----------+------------------+--------------------+---------------------+--------------+--------+--------------------+------------------------+---------------------+------------------------------+---------------------+--------------+---------------+-----------+---------+---------+-------------+-------------+-------------------+--------+----------------+------------+------------------+------------------+--------------+----------------+--------------------+---------+---------------+-----------------+--------------+--------------------------+---------------+------------------------+----------------------+----------------+----------------+------------------+-------------------+---------------------+--------------------------------+----------------------------------+-----------------------------------+-------------+-------------+---------------+---------------+-------------+---------------+-------------------+-----------------+-----------------------+---------------+------------+--------------------+------------------------------------------+------------------------------+----------------------------+-------------------+--------------------+-------------------------+-----------------+---------------+-----------------+---------------------+---------------+\n",
            "|  id|member_id|loan_amnt|funded_amnt|funded_amnt_inv|      term|int_rate|installment|grade|sub_grade|           emp_title|emp_length|home_ownership|annual_inc|verification_status|issue_d|loan_status|pymnt_plan| url|desc|           purpose|               title|zip_code|addr_state|  dti|delinq_2yrs|earliest_cr_line|inq_last_6mths|mths_since_last_delinq|mths_since_last_record|open_acc|pub_rec|revol_bal|revol_util|total_acc|initial_list_status|out_prncp|out_prncp_inv|total_pymnt|total_pymnt_inv|total_rec_prncp|total_rec_int|total_rec_late_fee|recoveries|collection_recovery_fee|last_pymnt_d|last_pymnt_amnt|next_pymnt_d|last_credit_pull_d|collections_12_mths_ex_med|mths_since_last_major_derog|policy_code|application_type|annual_inc_joint|dti_joint|verification_status_joint|acc_now_delinq|tot_coll_amt|tot_cur_bal|open_acc_6m|open_act_il|open_il_12m|open_il_24m|mths_since_rcnt_il|total_bal_il|il_util|open_rv_12m|open_rv_24m|max_bal_bc|all_util|total_rev_hi_lim|inq_fi|total_cu_tl|inq_last_12m|acc_open_past_24mths|avg_cur_bal|bc_open_to_buy|bc_util|chargeoff_within_12_mths|delinq_amnt|mo_sin_old_il_acct|mo_sin_old_rev_tl_op|mo_sin_rcnt_rev_tl_op|mo_sin_rcnt_tl|mort_acc|mths_since_recent_bc|mths_since_recent_bc_dlq|mths_since_recent_inq|mths_since_recent_revol_delinq|num_accts_ever_120_pd|num_actv_bc_tl|num_actv_rev_tl|num_bc_sats|num_bc_tl|num_il_tl|num_op_rev_tl|num_rev_accts|num_rev_tl_bal_gt_0|num_sats|num_tl_120dpd_2m|num_tl_30dpd|num_tl_90g_dpd_24m|num_tl_op_past_12m|pct_tl_nvr_dlq|percent_bc_gt_75|pub_rec_bankruptcies|tax_liens|tot_hi_cred_lim|total_bal_ex_mort|total_bc_limit|total_il_high_credit_limit|revol_bal_joint|sec_app_earliest_cr_line|sec_app_inq_last_6mths|sec_app_mort_acc|sec_app_open_acc|sec_app_revol_util|sec_app_open_act_il|sec_app_num_rev_accts|sec_app_chargeoff_within_12_mths|sec_app_collections_12_mths_ex_med|sec_app_mths_since_last_major_derog|hardship_flag|hardship_type|hardship_reason|hardship_status|deferral_term|hardship_amount|hardship_start_date|hardship_end_date|payment_plan_start_date|hardship_length|hardship_dpd|hardship_loan_status|orig_projected_additional_accrued_interest|hardship_payoff_balance_amount|hardship_last_payment_amount|disbursement_method|debt_settlement_flag|debt_settlement_flag_date|settlement_status|settlement_date|settlement_amount|settlement_percentage|settlement_term|\n",
            "+----+---------+---------+-----------+---------------+----------+--------+-----------+-----+---------+--------------------+----------+--------------+----------+-------------------+-------+-----------+----------+----+----+------------------+--------------------+--------+----------+-----+-----------+----------------+--------------+----------------------+----------------------+--------+-------+---------+----------+---------+-------------------+---------+-------------+-----------+---------------+---------------+-------------+------------------+----------+-----------------------+------------+---------------+------------+------------------+--------------------------+---------------------------+-----------+----------------+----------------+---------+-------------------------+--------------+------------+-----------+-----------+-----------+-----------+-----------+------------------+------------+-------+-----------+-----------+----------+--------+----------------+------+-----------+------------+--------------------+-----------+--------------+-------+------------------------+-----------+------------------+--------------------+---------------------+--------------+--------+--------------------+------------------------+---------------------+------------------------------+---------------------+--------------+---------------+-----------+---------+---------+-------------+-------------+-------------------+--------+----------------+------------+------------------+------------------+--------------+----------------+--------------------+---------+---------------+-----------------+--------------+--------------------------+---------------+------------------------+----------------------+----------------+----------------+------------------+-------------------+---------------------+--------------------------------+----------------------------------+-----------------------------------+-------------+-------------+---------------+---------------+-------------+---------------+-------------------+-----------------+-----------------------+---------------+------------+--------------------+------------------------------------------+------------------------------+----------------------------+-------------------+--------------------+-------------------------+-----------------+---------------+-----------------+---------------------+---------------+\n",
            "|null|     null|    10000|      10000|        10000.0| 36 months|  10.33%|     324.23|    B|       B1|                null|  < 1 year|      MORTGAGE|  280000.0|       Not Verified| Dec-18|    Current|         n|null|null|debt_consolidation|  Debt consolidation|   974xx|        OR| 6.15|          2|          Jan-96|             0|                    18|                  null|      14|      0|     9082|       38%|       23|                  w|  9521.66|      9521.66|     639.85|         639.85|         478.34|       161.51|               0.0|       0.0|                    0.0|      Feb-19|         324.23|      Apr-19|            Mar-19|                         0|                       null|          1|      Individual|            null|     null|                     null|             0|         671|     246828|          1|          3|          2|          3|                 1|       48552|     62|          1|          3|      4923|      46|           23900|     2|          7|           1|                   7|      17631|         11897|   43.1|                       0|          0|               158|                 275|                   11|             1|       1|                  11|                    null|                   11|                          null|                    0|             3|              4|          7|        7|       10|            9|           11|                  4|      14|               0|           0|                 0|                 4|          91.3|            28.6|                   0|        0|         367828|            61364|         20900|                     54912|           null|                    null|                  null|            null|            null|              null|               null|                 null|                            null|                              null|                               null|            N|         null|           null|           null|         null|           null|               null|             null|                   null|           null|        null|                null|                                      null|                          null|                        null|          DirectPay|                   N|                     null|             null|           null|             null|                 null|           null|\n",
            "|null|     null|     2500|       2500|         2500.0| 36 months|  13.56%|      84.92|    C|       C1|                Chef| 10+ years|          RENT|   55000.0|       Not Verified| Dec-18|    Current|         n|null|null|debt_consolidation|  Debt consolidation|   109xx|        NY|18.24|          0|          Apr-01|             1|                  null|                    45|       9|      1|     4341|    10.30%|       34|                  w|  2386.02|      2386.02|     167.02|         167.02|         113.98|        53.04|               0.0|       0.0|                    0.0|      Feb-19|          84.92|      Apr-19|            Mar-19|                         0|                       null|          1|      Individual|            null|     null|                     null|             0|           0|      16901|          2|          2|          1|          2|                 2|       12560|     69|          2|          7|      2137|      28|           42000|     1|         11|           2|                   9|       1878|         34360|    5.9|                       0|          0|               140|                 212|                    1|             1|       0|                   1|                    null|                    2|                          null|                    0|             2|              5|          3|        3|       16|            7|           18|                  5|       9|               0|           0|                 0|                 3|         100.0|             0.0|                   1|        0|          60124|            16901|         36500|                     18124|           null|                    null|                  null|            null|            null|              null|               null|                 null|                            null|                              null|                               null|            N|         null|           null|           null|         null|           null|               null|             null|                   null|           null|        null|                null|                                      null|                          null|                        null|               Cash|                   N|                     null|             null|           null|             null|                 null|           null|\n",
            "|null|     null|    12000|      12000|        12000.0| 60 months|  13.56%|     276.49|    C|       C1|                null|  < 1 year|      MORTGAGE|   40000.0|       Not Verified| Dec-18|    Current|         n|null|null|debt_consolidation|  Debt consolidation|   180xx|        PA|19.23|          0|          Aug-05|             2|                  null|                  null|       8|      0|    23195|    55.50%|        9|                  w| 11716.63|     11716.63|     539.42|         539.42|         283.37|       256.05|               0.0|       0.0|                    0.0|      Feb-19|         276.49|      Apr-19|            Mar-19|                         0|                       null|          1|      Individual|            null|     null|                     null|             0|           0|      32462|          1|          1|          1|          1|                 4|        9267|    103|          2|          2|      9747|      64|           41800|     1|          0|           3|                   3|       4058|         16601|   54.9|                       0|          0|                 4|                 149|                    9|             4|       1|                  10|                    null|                    4|                          null|                    0|             5|              6|          5|        5|        1|            7|            7|                  6|       8|               0|           0|                 0|                 3|         100.0|            60.0|                   0|        0|          50800|            32462|         36800|                      9000|           null|                    null|                  null|            null|            null|              null|               null|                 null|                            null|                              null|                               null|            N|         null|           null|           null|         null|           null|               null|             null|                   null|           null|        null|                null|                                      null|                          null|                        null|               Cash|                   N|                     null|             null|           null|             null|                 null|           null|\n",
            "|null|     null|    15000|      15000|        14975.0| 60 months|  14.47%|     352.69|    C|       C2|                null|       n/a|      MORTGAGE|   30000.0|    Source Verified| Dec-18|    Current|         n|null|null|debt_consolidation|  Debt consolidation|   756xx|        TX| 41.6|          0|          Oct-99|             0|                  null|                  null|      20|      0|    20049|    37.20%|       30|                  f| 14654.57|     14630.15|     687.29|         686.14|         345.43|       341.86|               0.0|       0.0|                    0.0|      Feb-19|         352.69|      Apr-19|            Mar-19|                         0|                       null|          1|       Joint App|         55000.0|    34.95|          Source Verified|             0|           0|      65496|          1|          1|          0|          1|                16|        4458|     31|          1|          1|      3616|      36|           53900|     0|          2|           0|                   2|       3275|          2545|   74.3|                       0|          0|               149|                 230|                    6|             6|       1|                  31|                    null|                 null|                          null|                    0|             4|             13|          4|        5|        8|           18|           21|                 13|      20|               0|           0|                 0|                 1|         100.0|            50.0|                   0|        0|         118790|            24507|          9900|                     14490|          29704|                  Oct-99|                     0|               0|              16|              48.8|                  0|                   15|                               0|                                 0|                               null|            N|         null|           null|           null|         null|           null|               null|             null|                   null|           null|        null|                null|                                      null|                          null|                        null|               Cash|                   N|                     null|             null|           null|             null|                 null|           null|\n",
            "|null|     null|    16000|      16000|        16000.0| 60 months|  17.97%|     406.04|    D|       D1|Instructional Coo...|   5 years|      MORTGAGE|   51000.0|       Not Verified| Dec-18|    Current|         n|null|null|debt_consolidation|  Debt consolidation|   284xx|        NC|21.91|          0|          Oct-05|             1|                    52|                  null|      11|      0|     7326|    24.80%|       27|                  w| 15664.63|     15664.63|     788.12|         788.12|         335.37|       452.75|               0.0|       0.0|                    0.0|      Feb-19|         406.04|      Apr-19|            Mar-19|                         0|                         52|          1|      Individual|            null|     null|                     null|             0|           0|      39339|          3|          8|          2|          2|                 2|       32013|     83|          1|          1|      3881|      58|           29500|     0|          0|           1|                   3|       3576|         22174|   24.8|                       0|          0|               123|                 158|                    6|             2|       0|                   6|                      52|                    4|                            52|                    6|             2|              2|          3|        6|       21|            3|            6|                  2|      11|               0|           0|                 0|                 3|          77.8|             0.0|                   0|        0|          67924|            39339|         29500|                     38424|           null|                    null|                  null|            null|            null|              null|               null|                 null|                            null|                              null|                               null|            N|         null|           null|           null|         null|           null|               null|             null|                   null|           null|        null|                null|                                      null|                          null|                        null|               Cash|                   N|                     null|             null|           null|             null|                 null|           null|\n",
            "|null|     null|     9600|       9600|         9600.0| 36 months|  23.40%|     373.62|    E|       E1| driver coordinator |   9 years|          RENT|   65000.0|       Not Verified| Dec-18|    Current|         n|null|null|       credit_card|Credit card refin...|   265xx|        WV|23.01|          1|          Sep-03|             0|                    16|                  null|      12|      0|    10678|    37.50%|       20|                  f|  9223.52|      9223.52|     728.52|         728.52|         376.48|       352.04|               0.0|       0.0|                    0.0|      Feb-19|         373.62|      Apr-19|            Mar-19|                         0|                       null|          1|      Individual|            null|     null|                     null|             0|          66|      24165|          0|          2|          0|          0|                43|       13487|     33|          1|          1|      2264|      35|           28500|     0|          0|           0|                   1|       2014|           232|   96.9|                       0|          0|               183|                  92|                   12|            12|       0|                  27|                    null|                   15|                            30|                    0|             7|              9|          7|        8|        8|           10|           12|                  9|      12|               0|           0|                 0|                 1|          90.0|            85.7|                   0|        0|          68902|            24165|          7600|                     40402|           null|                    null|                  null|            null|            null|              null|               null|                 null|                            null|                              null|                               null|            N|         null|           null|           null|         null|           null|               null|             null|                   null|           null|        null|                null|                                      null|                          null|                        null|               Cash|                   N|                     null|             null|           null|             null|                 null|           null|\n",
            "|null|     null|     4000|       4000|         4000.0| 36 months|  23.40%|     155.68|    E|       E1|            Security|   3 years|          RENT|   90000.0|    Source Verified| Dec-18|    Current|         n|null|null|debt_consolidation|  Debt consolidation|   070xx|        NJ|26.33|          0|          Sep-06|             4|                    59|                  null|      15|      0|     5199|    19.20%|       20|                  w|  3843.13|      3843.13|     303.56|         303.56|         156.87|       146.69|               0.0|       0.0|                    0.0|      Feb-19|         155.68|      Apr-19|            Mar-19|                         0|                       null|          1|      Individual|            null|     null|                     null|             0|           0|      66926|          5|          4|          3|          4|                 5|       61727|     86|          6|         11|      1353|      68|           27100|     4|          0|           4|                  15|       4462|         20174|    7.9|                       0|          0|               147|                 118|                    2|             2|       0|                   2|                    null|                    0|                          null|                    0|             5|              7|          9|        9|        8|           11|           12|                  7|      15|               0|           0|                 0|                 9|          95.0|             0.0|                   0|        0|          98655|            66926|         21900|                     71555|           null|                    null|                  null|            null|            null|              null|               null|                 null|                            null|                              null|                               null|            N|         null|           null|           null|         null|           null|               null|             null|                   null|           null|        null|                null|                                      null|                          null|                        null|               Cash|                   N|                     null|             null|           null|             null|                 null|           null|\n",
            "|null|     null|     3500|       3500|         3500.0| 36 months|  20.89%|     131.67|    D|       D4|       gas attendant| 10+ years|      MORTGAGE|   40000.0|    Source Verified| Dec-18|    Current|         n|null|null|               car|       Car financing|   078xx|        NJ| 9.09|          0|          Oct-04|             1|                    24|                  null|       4|      0|     1944|    33.50%|       18|                  w|  3357.29|      3357.29|     257.25|         257.25|         142.71|       114.54|               0.0|       0.0|                    0.0|      Feb-19|         131.67|      Apr-19|            Mar-19|                         0|                         48|          1|       Joint App|         59500.0|    10.59|          Source Verified|             0|           0|     189794|          1|          1|          1|          1|                 7|       24958|    100|          2|          2|      1317|      87|            5800|     1|          0|           3|                   3|      47449|          3683|   26.3|                       0|          0|               150|                 170|                    1|             1|       4|                   8|                      48|                    1|                            48|                    2|             1|              2|          1|        8|        3|            2|           11|                  2|       4|               0|           0|                 0|                 3|          38.9|             0.0|                   0|        0|         217000|            26902|          5000|                     25000|           6902|                  May-03|                     0|               3|               6|              47.9|                  0|                   21|                               0|                                 0|                                 46|            N|         null|           null|           null|         null|           null|               null|             null|                   null|           null|        null|                null|                                      null|                          null|                        null|               Cash|                   N|                     null|             null|           null|             null|                 null|           null|\n",
            "|null|     null|     9600|       9600|         9600.0| 36 months|  12.98%|     323.37|    B|       B5|                null|       n/a|      MORTGAGE|   35704.0|       Not Verified| Dec-18|    Current|         n|null|null|  home_improvement|    Home improvement|   401xx|        KY| 0.84|          0|          Nov-03|             0|                    69|                  null|       5|      0|      748|    11.50%|       23|                  w|  9158.56|      9158.56|     670.98|         670.98|         441.44|       229.54|               0.0|       0.0|                    0.0|      Mar-19|         323.37|      Apr-19|            Mar-19|                         0|                       null|          1|      Individual|            null|     null|                     null|             0|           0|        748|          0|          0|          0|          0|                44|           0|   null|          0|          3|       748|      12|            6500|     0|          0|           1|                   3|        150|          3452|   17.8|                       0|          0|               181|                 100|                   13|            13|       0|                  16|                    null|                    3|                          null|                    0|             1|              1|          2|        2|       16|            5|            7|                  1|       5|               0|           0|                 0|                 0|          95.5|             0.0|                   0|        0|           6500|              748|          4200|                         0|           null|                    null|                  null|            null|            null|              null|               null|                 null|                            null|                              null|                               null|            N|         null|           null|           null|         null|           null|               null|             null|                   null|           null|        null|                null|                                      null|                          null|                        null|               Cash|                   N|                     null|             null|           null|             null|                 null|           null|\n",
            "|null|     null|     8000|       8000|         8000.0| 36 months|  23.40%|     311.35|    E|       E1|             Manager| 10+ years|           OWN|   43000.0|    Source Verified| Dec-18|    Current|         n|null|null|debt_consolidation|  Debt consolidation|   357xx|        AL|33.24|          0|          Jan-95|             0|                  null|                   107|       8|      1|     9019|    81.30%|       16|                  w|  7686.27|      7686.27|      607.1|          607.1|         313.73|       293.37|               0.0|       0.0|                    0.0|      Feb-19|         311.35|      Apr-19|            Mar-19|                         0|                       null|          1|      Individual|            null|     null|                     null|             0|           0|     169223|          0|          3|          2|          2|                 7|       22059|     69|          0|          0|      2174|      72|           11100|     1|          1|           1|                   2|      21153|           126|   94.5|                       0|          0|               148|                 287|                   44|             7|       1|                  51|                    null|                    7|                          null|                    0|             1|              4|          1|        2|        8|            4|            7|                  4|       8|               0|           0|                 0|                 2|         100.0|           100.0|                   1|        0|         199744|            31078|          2300|                     32206|           null|                    null|                  null|            null|            null|              null|               null|                 null|                            null|                              null|                               null|            N|         null|           null|           null|         null|           null|               null|             null|                   null|           null|        null|                null|                                      null|                          null|                        null|               Cash|                   N|                     null|             null|           null|             null|                 null|           null|\n",
            "|null|     null|    16000|      16000|        16000.0| 60 months|  26.31%|     481.99|    E|       E4|Financial Relatio...|  < 1 year|          RENT|   33000.0|    Source Verified| Dec-18|    Current|         n|null|null|       credit_card|Credit card refin...|   290xx|        SC|33.62|          0|          Sep-10|             1|                  null|                  null|      17|      0|    22872|    65.50%|       22|                  w| 15734.74|     15734.74|      928.9|          928.9|         265.26|       663.64|               0.0|       0.0|                    0.0|      Feb-19|         481.99|      Apr-19|            Mar-19|                         0|                       null|          1|      Individual|            null|     null|                     null|             0|           0|      29869|          1|          1|          0|          1|                24|        6997|     65|          1|          1|      2703|      65|           34900|     0|          3|           1|                   2|       1757|          4596|   66.9|                       0|          0|                29|                  99|                    2|             2|       0|                   2|                    null|                    3|                          null|                    0|             6|             11|          9|       13|        2|           16|           20|                 11|      17|               0|           0|                 0|                 1|         100.0|            55.6|                   0|        0|          45709|            29869|         13900|                     10809|           null|                    null|                  null|            null|            null|              null|               null|                 null|                            null|                              null|                               null|            N|         null|           null|           null|         null|           null|               null|             null|                   null|           null|        null|                null|                                      null|                          null|                        null|               Cash|                   N|                     null|             null|           null|             null|                 null|           null|\n",
            "|null|     null|    30000|      30000|        30000.0| 60 months|  18.94%|     777.23|    D|       D2|         Postmaster | 10+ years|      MORTGAGE|   90000.0|    Source Verified| Dec-18|    Current|         n|null|null|debt_consolidation|  Debt consolidation|   713xx|        LA|26.52|          0|          Jun-87|             0|                    71|                    75|      13|      1|    12315|    24.20%|       44|                  w| 29387.75|     29387.75|    1507.11|        1507.11|         612.25|       894.86|               0.0|       0.0|                    0.0|      Feb-19|         777.23|      Apr-19|            Mar-19|                         0|                       null|          1|      Individual|            null|     null|                     null|             0|        1208|     321915|          4|          4|          2|          3|                 3|       87153|     88|          4|          5|       998|      57|           50800|     2|         15|           2|                  10|      24763|         13761|    8.3|                       0|          0|               163|                 378|                    4|             3|       3|                   4|                    null|                    4|                          null|                    0|             2|              4|          4|        9|       27|            8|           14|                  4|      13|               0|           0|                 0|                 6|          95.0|             0.0|                   1|        0|         372872|            99468|         15000|                     94072|           null|                    null|                  null|            null|            null|              null|               null|                 null|                            null|                              null|                               null|            N|         null|           null|           null|         null|           null|               null|             null|                   null|           null|        null|                null|                                      null|                          null|                        null|               Cash|                   N|                     null|             null|           null|             null|                 null|           null|\n",
            "|null|     null|    10000|      10000|        10000.0| 60 months|  19.92%|      264.5|    D|       D3|    Material Handler| 10+ years|      MORTGAGE|   80000.0|       Not Verified| Dec-18|    Current|         n|null|null|debt_consolidation|  Debt consolidation|   648xx|        MO|20.67|          0|          Apr-05|             0|                    37|                  null|      11|      0|    13198|    73.70%|       19|                  w|  9801.36|      9801.36|      512.4|          512.4|         198.64|       313.76|               0.0|       0.0|                    0.0|      Feb-19|          264.5|      Apr-19|            Mar-19|                         0|                         37|          1|      Individual|            null|     null|                     null|             0|         116|     110120|          0|          2|          0|          1|                15|       24408|     70|          1|          1|      6521|      72|           17900|     0|          0|           1|                   2|      10011|           779|   90.3|                       0|          0|               148|                 164|                   11|            11|       1|                 149|                      37|                   11|                            37|                    0|             2|              8|          2|        4|        6|            8|           12|                  8|      11|               0|           0|                 0|                 1|          84.2|            50.0|                   0|        0|         170230|            37606|          8000|                     55030|           null|                    null|                  null|            null|            null|              null|               null|                 null|                            null|                              null|                               null|            N|         null|           null|           null|         null|           null|               null|             null|                   null|           null|        null|                null|                                      null|                          null|                        null|               Cash|                   N|                     null|             null|           null|             null|                 null|           null|\n",
            "|null|     null|     5000|       5000|         5000.0| 36 months|  17.97%|     180.69|    D|       D1|      Administrative|   6 years|      MORTGAGE|   59280.0|    Source Verified| Dec-18|    Current|         n|null|null|debt_consolidation|  Debt consolidation|   490xx|        MI|10.51|          0|          Apr-11|             0|                  null|                  null|       8|      0|     4599|    19.10%|       13|                  w|  4787.21|      4787.21|     353.89|         353.89|         212.79|        141.1|               0.0|       0.0|                    0.0|      Feb-19|         180.69|      Apr-19|            Mar-19|                         0|                       null|          1|      Individual|            null|     null|                     null|             0|           0|     110299|          0|          1|          0|          2|                14|        7150|     72|          0|          2|         0|      35|           24100|     1|          5|           0|                   4|      18383|         13800|    0.0|                       0|          0|                87|                  92|                   15|            14|       2|                  77|                    null|                   14|                          null|                    0|             0|              3|          3|        3|        4|            6|            7|                  3|       8|               0|           0|                 0|                 0|         100.0|             0.0|                   0|        0|         136927|            11749|         13800|                     10000|           null|                    null|                  null|            null|            null|              null|               null|                 null|                            null|                              null|                               null|            N|         null|           null|           null|         null|           null|               null|             null|                   null|           null|        null|                null|                                      null|                          null|                        null|               Cash|                   N|                     null|             null|           null|             null|                 null|           null|\n",
            "|null|     null|    23000|      23000|        23000.0| 60 months|  20.89%|     620.81|    D|       D4|            Operator|   5 years|          RENT|   68107.0|    Source Verified| Dec-18|    Current|         n|null|null|debt_consolidation|  Debt consolidation|   672xx|        KS| 0.52|          0|          Feb-97|             0|                  null|                  null|       5|      0|      976|       13%|       10|                  w| 22553.51|     22553.51|     1203.4|         1203.4|         446.49|       756.91|               0.0|       0.0|                    0.0|      Mar-19|         622.63|      Apr-19|            Mar-19|                         1|                       null|          1|      Individual|            null|     null|                     null|             0|        2693|        976|          0|          0|          0|          0|                36|           0|   null|          3|          4|         0|      13|            7500|     2|          2|           4|                   4|        195|          3300|    0.0|                       0|          0|               237|                 262|                   10|            10|       0|                  10|                    null|                    9|                          null|                    0|             0|              1|          3|        4|        3|            5|            7|                  1|       5|               0|           0|                 0|                 3|         100.0|             0.0|                   0|        0|           7500|              976|          3300|                         0|           null|                    null|                  null|            null|            null|              null|               null|                 null|                            null|                              null|                               null|            N|         null|           null|           null|         null|           null|               null|             null|                   null|           null|        null|                null|                                      null|                          null|                        null|               Cash|                   N|                     null|             null|           null|             null|                 null|           null|\n",
            "|null|     null|    32075|      32075|        32075.0| 60 months|  11.80%|     710.26|    B|       B4|  Nursing Supervisor| 10+ years|      MORTGAGE|  150000.0|       Not Verified| Dec-18|    Current|         n|null|null|       credit_card|Credit card refin...|   231xx|        VA|22.21|          0|          Aug-05|             0|                  null|                  null|      17|      0|    19077|       32%|       24|                  w| 31281.41|     31281.41|    1388.98|        1388.98|         793.59|       595.39|               0.0|       0.0|                    0.0|      Feb-19|         710.26|      Apr-19|            Mar-19|                         0|                       null|          1|      Individual|            null|     null|                     null|             0|           0|     272667|          1|          4|          1|          1|                 9|       37558|     47|          1|          1|      3910|      41|           59600|     1|          2|           0|                   3|      16039|         10446|   47.8|                       0|          0|               160|                  70|                    4|             4|       2|                  27|                    null|                   14|                          null|                    0|             4|             10|          4|        4|        8|           12|           14|                 10|      17|               0|           0|                 0|                 2|         100.0|            50.0|                   0|        0|         360433|            56635|         20000|                     80125|           null|                    null|                  null|            null|            null|              null|               null|                 null|                            null|                              null|                               null|            N|         null|           null|           null|         null|           null|               null|             null|                   null|           null|        null|                null|                                      null|                          null|                        null|               Cash|                   N|                     null|             null|           null|             null|                 null|           null|\n",
            "|null|     null|    13000|      13000|        13000.0| 36 months|  23.40%|     505.95|    E|       E1| Sale Representative|   2 years|      MORTGAGE|   90000.0|           Verified| Dec-18|    Current|         n|null|null|             other|               Other|   191xx|        PA|39.73|          0|          May-07|             0|                  null|                  null|      14|      0|    52013|    83.10%|       20|                  w| 12490.18|     12490.18|     986.55|         986.55|         509.82|       476.73|               0.0|       0.0|                    0.0|      Feb-19|         505.95|      Apr-19|            Mar-19|                         0|                       null|          1|      Individual|            null|     null|                     null|             0|           0|      87876|          1|          7|          1|          3|                 1|       35863|     48|          0|          1|     18037|      64|           62600|     2|          0|           1|                   4|       6277|          9503|   83.8|                       0|          0|               131|                 139|                   16|             1|       0|                  16|                    null|                   10|                          null|                    0|             6|              7|          6|        7|       11|            7|            9|                  7|      14|               0|           0|                 0|                 1|         100.0|            66.7|                   0|        0|         137276|            87876|         58600|                     74676|           null|                    null|                  null|            null|            null|              null|               null|                 null|                            null|                              null|                               null|            N|         null|           null|           null|         null|           null|               null|             null|                   null|           null|        null|                null|                                      null|                          null|                        null|               Cash|                   N|                     null|             null|           null|             null|                 null|           null|\n",
            "|null|     null|    35000|      35000|        35000.0| 60 months|  15.02%|     833.02|    C|       C3|    Sr Sales Manager| 10+ years|      MORTGAGE|  290000.0|    Source Verified| Dec-18|    Current|         n|null|null|debt_consolidation|  Debt consolidation|   656xx|        MO|  7.6|          0|          Dec-04|             0|                    29|                  null|      15|      0|    29416|    93.70%|       33|                  w| 34205.18|     34205.18|    1622.23|        1622.23|         794.82|       827.41|               0.0|       0.0|                    0.0|      Feb-19|         833.02|      Apr-19|            Mar-19|                         1|                         42|          1|      Individual|            null|     null|                     null|             0|         149|     479986|          1|          8|          0|          2|                17|       58023|     58|          0|          1|     12297|      75|           31400|     0|          0|           2|                   4|      31999|          1038|   95.2|                       0|          0|               168|                 167|                   22|             6|       3|                  22|                      42|                    8|                            29|                    0|             3|              4|          3|        8|       17|            6|           13|                  4|      15|               0|           0|                 0|                 1|          87.9|           100.0|                   0|        0|         513173|            87439|         21600|                     82773|           null|                    null|                  null|            null|            null|              null|               null|                 null|                            null|                              null|                               null|            N|         null|           null|           null|         null|           null|               null|             null|                   null|           null|        null|                null|                                      null|                          null|                        null|          DirectPay|                   N|                     null|             null|           null|             null|                 null|           null|\n",
            "|null|     null|    40000|      40000|        40000.0| 60 months|  11.31%|      875.9|    B|       B3|                null|  < 1 year|      MORTGAGE|  136000.0|       Not Verified| Dec-18|    Current|         n|null|null|debt_consolidation|  Debt consolidation|   480xx|        MI|15.41|          0|          Apr-06|             0|                    72|                  null|      12|      0|    34283|       81%|       22|                  w|  38997.5|      38997.5|     1714.1|         1714.1|         1002.5|        711.6|               0.0|       0.0|                    0.0|      Feb-19|          875.9|      Apr-19|            Mar-19|                         0|                       null|          1|      Individual|            null|     null|                     null|             0|           0|     149597|          1|          2|          0|          1|                14|       27860|     66|          2|          2|      9618|      73|           42300|     0|          0|           0|                   3|      12466|          2589|   89.6|                       0|          0|               123|                 132|                    1|             1|       3|                  40|                    null|                   15|                          null|                    0|             3|              8|          4|        8|        5|            9|           14|                  8|      12|               0|           0|                 0|                 2|          86.4|            75.0|                   0|        0|         179159|            62143|         25000|                     42409|           null|                    null|                  null|            null|            null|              null|               null|                 null|                            null|                              null|                               null|            N|         null|           null|           null|         null|           null|               null|             null|                   null|           null|        null|                null|                                      null|                          null|                        null|          DirectPay|                   N|                     null|             null|           null|             null|                 null|           null|\n",
            "|null|     null|     8000|       8000|         8000.0| 36 months|  10.33%|     259.38|    B|       B1|            Optician|   6 years|      MORTGAGE|   38000.0|    Source Verified| Dec-18|    Current|         n|null|null|       credit_card|Credit card refin...|   159xx|        PA|19.84|          0|          Feb-03|             1|                    49|                  null|      14|      0|     9394|    37.60%|       25|                  w|  7617.33|      7617.33|     511.87|         511.87|         382.67|        129.2|               0.0|       0.0|                    0.0|      Feb-19|         259.38|      Apr-19|            Mar-19|                         0|                         52|          1|      Individual|            null|     null|                     null|             0|           0|      83139|          4|          1|          2|          2|                 5|       22240|     95|          4|          5|      6410|      65|           25000|     2|          0|           8|                   8|       5939|          6188|   57.6|                       0|          0|               167|                 133|                    1|             1|       3|                   2|                    null|                    1|                          null|                    1|             4|              8|          4|        6|        6|           12|           16|                  8|      14|               0|           0|                 0|                 7|          95.7|            25.0|                   0|        0|         100250|            31634|         14600|                     23358|           null|                    null|                  null|            null|            null|              null|               null|                 null|                            null|                              null|                               null|            N|         null|           null|           null|         null|           null|               null|             null|                   null|           null|        null|                null|                                      null|                          null|                        null|          DirectPay|                   N|                     null|             null|           null|             null|                 null|           null|\n",
            "+----+---------+---------+-----------+---------------+----------+--------+-----------+-----+---------+--------------------+----------+--------------+----------+-------------------+-------+-----------+----------+----+----+------------------+--------------------+--------+----------+-----+-----------+----------------+--------------+----------------------+----------------------+--------+-------+---------+----------+---------+-------------------+---------+-------------+-----------+---------------+---------------+-------------+------------------+----------+-----------------------+------------+---------------+------------+------------------+--------------------------+---------------------------+-----------+----------------+----------------+---------+-------------------------+--------------+------------+-----------+-----------+-----------+-----------+-----------+------------------+------------+-------+-----------+-----------+----------+--------+----------------+------+-----------+------------+--------------------+-----------+--------------+-------+------------------------+-----------+------------------+--------------------+---------------------+--------------+--------+--------------------+------------------------+---------------------+------------------------------+---------------------+--------------+---------------+-----------+---------+---------+-------------+-------------+-------------------+--------+----------------+------------+------------------+------------------+--------------+----------------+--------------------+---------+---------------+-----------------+--------------+--------------------------+---------------+------------------------+----------------------+----------------+----------------+------------------+-------------------+---------------------+--------------------------------+----------------------------------+-----------------------------------+-------------+-------------+---------------+---------------+-------------+---------------+-------------------+-----------------+-----------------------+---------------+------------+--------------------+------------------------------------------+------------------------------+----------------------------+-------------------+--------------------+-------------------------+-----------------+---------------+-----------------+---------------------+---------------+\n",
            "only showing top 20 rows\n",
            "\n"
          ]
        }
      ]
    },
    {
      "cell_type": "code",
      "source": [
        "spark.sql(\"select count(*) from loanstats\")"
      ],
      "metadata": {
        "colab": {
          "base_uri": "https://localhost:8080/"
        },
        "id": "JezzPMXTsA_b",
        "outputId": "7ed9d7ee-4bf3-4282-aacd-fe96c8037745"
      },
      "execution_count": null,
      "outputs": [
        {
          "output_type": "execute_result",
          "data": {
            "text/plain": [
              "DataFrame[count(1): bigint]"
            ]
          },
          "metadata": {},
          "execution_count": 21
        }
      ]
    },
    {
      "cell_type": "code",
      "source": [
        "#It will provide the statistics(mean,cunt,min,max) for the numerical values in df.\n",
        "df.describe().show()"
      ],
      "metadata": {
        "colab": {
          "base_uri": "https://localhost:8080/"
        },
        "id": "X8gz849urUDU",
        "outputId": "a35e3b1c-7cca-4114-ad7c-0e15a178efd5"
      },
      "execution_count": null,
      "outputs": [
        {
          "output_type": "stream",
          "name": "stdout",
          "text": [
            "+-------+----+---------+------------------+------------------+------------------+----------+--------+------------------+------+---------+------------------+----------+--------------+-----------------+-------------------+-------+------------------+----------+----+----+--------+--------+--------+----------+------------------+-------------------+----------------+-------------------+----------------------+----------------------+-----------------+-------------------+------------------+----------+------------------+-------------------+------------------+------------------+-----------------+-----------------+------------------+-----------------+-------------------+--------------------+-----------------------+------------+------------------+------------+------------------+--------------------------+---------------------------+-----------+----------------+------------------+------------------+-------------------------+--------------+------------------+------------------+------------------+-----------------+------------------+------------------+------------------+------------------+------------------+------------------+-----------------+-----------------+------------------+-----------------+------------------+------------------+------------------+--------------------+------------------+------------------+------------------+------------------------+------------------+------------------+--------------------+---------------------+-----------------+------------------+--------------------+------------------------+---------------------+------------------------------+---------------------+-----------------+------------------+------------------+-----------------+-----------------+-----------------+-----------------+-------------------+-----------------+----------------+------------+--------------------+------------------+-----------------+------------------+--------------------+---------+------------------+-----------------+------------------+--------------------------+------------------+------------------------+----------------------+------------------+------------------+------------------+-------------------+---------------------+--------------------------------+----------------------------------+-----------------------------------+-------------+--------------------+---------------+---------------+-------------+---------------+-------------------+-----------------+-----------------------+---------------+------------+--------------------+------------------------------------------+------------------------------+----------------------------+-------------------+--------------------+-------------------------+-----------------+---------------+-----------------+---------------------+-----------------+\n",
            "|summary|  id|member_id|         loan_amnt|       funded_amnt|   funded_amnt_inv|      term|int_rate|       installment| grade|sub_grade|         emp_title|emp_length|home_ownership|       annual_inc|verification_status|issue_d|       loan_status|pymnt_plan| url|desc| purpose|   title|zip_code|addr_state|               dti|        delinq_2yrs|earliest_cr_line|     inq_last_6mths|mths_since_last_delinq|mths_since_last_record|         open_acc|            pub_rec|         revol_bal|revol_util|         total_acc|initial_list_status|         out_prncp|     out_prncp_inv|      total_pymnt|  total_pymnt_inv|   total_rec_prncp|    total_rec_int| total_rec_late_fee|          recoveries|collection_recovery_fee|last_pymnt_d|   last_pymnt_amnt|next_pymnt_d|last_credit_pull_d|collections_12_mths_ex_med|mths_since_last_major_derog|policy_code|application_type|  annual_inc_joint|         dti_joint|verification_status_joint|acc_now_delinq|      tot_coll_amt|       tot_cur_bal|       open_acc_6m|      open_act_il|       open_il_12m|       open_il_24m|mths_since_rcnt_il|      total_bal_il|           il_util|       open_rv_12m|      open_rv_24m|       max_bal_bc|          all_util| total_rev_hi_lim|            inq_fi|       total_cu_tl|      inq_last_12m|acc_open_past_24mths|       avg_cur_bal|    bc_open_to_buy|           bc_util|chargeoff_within_12_mths|       delinq_amnt|mo_sin_old_il_acct|mo_sin_old_rev_tl_op|mo_sin_rcnt_rev_tl_op|   mo_sin_rcnt_tl|          mort_acc|mths_since_recent_bc|mths_since_recent_bc_dlq|mths_since_recent_inq|mths_since_recent_revol_delinq|num_accts_ever_120_pd|   num_actv_bc_tl|   num_actv_rev_tl|       num_bc_sats|        num_bc_tl|        num_il_tl|    num_op_rev_tl|    num_rev_accts|num_rev_tl_bal_gt_0|         num_sats|num_tl_120dpd_2m|num_tl_30dpd|  num_tl_90g_dpd_24m|num_tl_op_past_12m|   pct_tl_nvr_dlq|  percent_bc_gt_75|pub_rec_bankruptcies|tax_liens|   tot_hi_cred_lim|total_bal_ex_mort|    total_bc_limit|total_il_high_credit_limit|   revol_bal_joint|sec_app_earliest_cr_line|sec_app_inq_last_6mths|  sec_app_mort_acc|  sec_app_open_acc|sec_app_revol_util|sec_app_open_act_il|sec_app_num_rev_accts|sec_app_chargeoff_within_12_mths|sec_app_collections_12_mths_ex_med|sec_app_mths_since_last_major_derog|hardship_flag|       hardship_type|hardship_reason|hardship_status|deferral_term|hardship_amount|hardship_start_date|hardship_end_date|payment_plan_start_date|hardship_length|hardship_dpd|hardship_loan_status|orig_projected_additional_accrued_interest|hardship_payoff_balance_amount|hardship_last_payment_amount|disbursement_method|debt_settlement_flag|debt_settlement_flag_date|settlement_status|settlement_date|settlement_amount|settlement_percentage|  settlement_term|\n",
            "+-------+----+---------+------------------+------------------+------------------+----------+--------+------------------+------+---------+------------------+----------+--------------+-----------------+-------------------+-------+------------------+----------+----+----+--------+--------+--------+----------+------------------+-------------------+----------------+-------------------+----------------------+----------------------+-----------------+-------------------+------------------+----------+------------------+-------------------+------------------+------------------+-----------------+-----------------+------------------+-----------------+-------------------+--------------------+-----------------------+------------+------------------+------------+------------------+--------------------------+---------------------------+-----------+----------------+------------------+------------------+-------------------------+--------------+------------------+------------------+------------------+-----------------+------------------+------------------+------------------+------------------+------------------+------------------+-----------------+-----------------+------------------+-----------------+------------------+------------------+------------------+--------------------+------------------+------------------+------------------+------------------------+------------------+------------------+--------------------+---------------------+-----------------+------------------+--------------------+------------------------+---------------------+------------------------------+---------------------+-----------------+------------------+------------------+-----------------+-----------------+-----------------+-----------------+-------------------+-----------------+----------------+------------+--------------------+------------------+-----------------+------------------+--------------------+---------+------------------+-----------------+------------------+--------------------------+------------------+------------------------+----------------------+------------------+------------------+------------------+-------------------+---------------------+--------------------------------+----------------------------------+-----------------------------------+-------------+--------------------+---------------+---------------+-------------+---------------+-------------------+-----------------+-----------------------+---------------+------------+--------------------+------------------------------------------+------------------------------+----------------------------+-------------------+--------------------+-------------------------+-----------------+---------------+-----------------+---------------------+-----------------+\n",
            "|  count|   0|        0|            128412|            128412|            128412|    128412|  128412|            128412|128412|   128412|            107466|    128412|        128412|           128412|             128412| 128412|            128412|    128412|   0|   0|  128412|  128412|  128412|    128412|            128175|             128412|          128412|             128412|                 56216|                 15450|           128412|             128412|            128412|    128256|            128412|             128412|            128412|            128412|           128412|           128412|            128412|           128412|             128412|              128412|                 128412|      128249|            128412|      123382|            128411|                    128412|                      29180|     128412|          128412|             16782|             16782|                    14848|        128412|            128412|            128412|            128412|           128412|            128412|            128412|            123934|            128412|            108138|            128412|           128412|           128412|            128375|           128412|            128412|            128412|            128412|              128412|            128399|            126721|            126658|                  128412|            128412|            123934|              128412|               128412|           128412|            128412|              126821|                   25169|               112365|                         36782|               128412|           128412|            128412|            128412|           128412|           128412|           128412|           128412|             128412|           128412|          125553|      128412|              128412|            128412|           128412|            126720|              128412|   128412|            128412|           128412|            128412|                    128412|             16782|                   16782|                 16782|             16782|             16782|             16524|              16782|                16782|                           16782|                             16782|                               5154|       128412|                   1|              1|              1|            1|              1|                  1|                1|                      1|              1|           1|                   1|                                         1|                             1|                           1|             128412|              128412|                        5|                5|              5|                5|                    5|                5|\n",
            "|   mean|null|     null| 15971.32102139987| 15971.32102139987| 15968.49816614494|      null|    null| 463.2612208360488|  null|     null|42.333333333333336|      null|          null| 82797.3278609476|               null|   null|              null|      null|null|null|    null|    null|    null|      null|19.933177530719778|0.22783696227766875|            null|0.44703766003177275|     36.88033655898676|     86.13016181229773|11.56405164626359|0.12184998286764477|16898.000957854405|      null|22.677413325857398|               null|14199.242107591357|14196.851785269451|2385.605985664754|2385.075231364657|1757.9599911223816|627.4848519608685|0.13431548453656983|0.026823661340061675|   0.004828259041211102|        null| 954.3985597918926|        null|              null|      0.017957823256393484|          46.55346127484579|        1.0|            null|133551.59692229767|19.226602312000985|                     null|           0.0|188.30428620378157| 146792.1954334486|0.9395072111640657|2.760201538796997|0.6890711148490796|1.5726645484845654|20.201518550196074| 36272.28023860698| 68.21175719913444|1.1959006946391304|  2.5407827928854|6062.072275176774|54.298812074001944|39382.18396255802|1.1145609444600193|1.5199280441080272|1.8769118150951625|   4.382697878702925| 13828.37887366724|15357.302956889545| 50.04870122692595|    0.007086565118524749|0.9677678098620066|123.05692546032566|   173.0636233373828|   15.431634115191727|   8.635400118369|1.3231551568389248|  26.013956679098886|       40.41523302475267|   7.5528322876340495|            37.817274753955736|  0.46155343737345417|3.659876024047597| 5.414127963118712|4.8821293960066035|7.065943992773261|8.288524436968508|8.199210354172507|12.86670248886397|  5.386342397906738|11.54671681774289|             0.0|         0.0|0.059488209824626985| 2.011642214123291|94.65984331682625|32.900755997475514| 0.12173317135470205|      0.0|188485.22697255708|53560.97362396038|27439.534163473818|          46821.8001900134| 36642.79668692647|                    null|    0.5859849839113336|1.5871767369800978|11.436002860207365| 55.87883079157592| 3.0271123823143844|    12.42390656655941|             0.03616970563699202|               0.06298414968418543|                  38.51590997283663|         null|                null|           null|           null|          3.0|         378.39|               null|             null|                   null|            3.0|        22.0|                null|                                   1135.17|                      15351.85|                     1045.41|               null|                null|                     null|             null|           null|           5402.6|               64.024|             15.6|\n",
            "| stddev|null|     null|10150.384232741915|10150.384232741915|10152.168969959772|      null|    null|285.71837061496916|  null|     null|60.583276020147125|      null|          null|108298.4657915005|               null|   null|              null|      null|null|null|    null|    null|    null|      null|20.143542243475476| 0.7337929617806072|            null| 0.7344804946010839|    21.813805413703463|    21.880055467858227|5.981598599915444|0.33282509720220665| 24082.55091203539|      null|12.129215673024733|               null| 9764.974123354987| 9766.270227654932|3500.080151452129|3499.960482830128| 3411.613404194091|520.6366301069891|  2.382692311620725|   9.612157146687512|     1.7301882864037454|        null|3140.5787313901333|        null|              null|       0.14656909506014962|          21.80171635505549|        0.0|            null| 96870.01060785717| 8.141631264595569|                     null|           0.0|1569.2900332525967|173872.66638818555|1.1453062243602798|2.942377094111672|0.9357760783564424| 1.565118264994552|24.869930099899385|47263.874268323074|23.589461430604807|1.4701234086691302|2.524326081482525|5932.797468973045|20.655736365868183|37945.74838043997|1.5014554099558972|  2.71232774722639|2.2969511695666354|  3.2092991618238536|17487.605341238435|19792.599022823768|28.791276443999877|     0.09592353243386023|112.15842117531022|56.581697365532335|  100.20019856371917|    19.05397588577064|9.573207309980146|1.7131494988244327|   34.30672100720491|       22.30527039511089|     6.05708783837657|            22.023835186486195|   1.3494118924470198|2.448078942360178|3.4396442011250468| 3.205304813399705|4.517164507177903|7.389194754721818|4.958904717333417|7.873910626994572|   3.38838022092954|5.977599473095352|             0.0|         0.0| 0.41065173659442344| 1.880558621068015|8.989287934443738| 34.89964696177603|  0.3325518553629031|      0.0|196553.63659189636|55993.35082192049|26377.282557410417|         49574.91126450031|32525.657340578986|                    null|    0.9360527358457791|1.8018781366582577|6.6901187046787625|26.071240784019686| 3.2543184225839386|    8.190066556285275|              0.3477258036611789|               0.36408269614055283|                 23.659435969981708|         null|                null|           null|           null|         null|           null|               null|             null|                   null|           null|        null|                null|                                      null|                          null|                        null|               null|                null|                     null|             null|           null|2851.191733293291|   2.2500844428598703|3.286335345030997|\n",
            "|    min|null|     null|              1000|              1000|             725.0| 36 months|  10.08%|             30.48|     A|       A1| \\tSlot technician|    1 year|           ANY|              0.0|       Not Verified| Dec-18|       Charged Off|         n|null|null|     car|Business|   010xx|        AK|               0.0|                  0|          Apr-00|                  0|                     0|                     5|                0|                  0|                 0|        0%|                 2|                  f|               0.0|               0.0|              0.0|              0.0|               0.0|              0.0|                0.0|                 0.0|                    0.0|      Dec-18|               0.0|      Apr-19|            Aug-18|                         0|                          0|          1|      Individual|            9000.0|               0.0|             Not Verified|             0|                 0|                 0|                 0|                0|                 0|                 0|                 0|                 0|                 0|                 0|                0|                0|                 0|                0|                 0|                 0|                 0|                   0|                 0|                 0|               0.0|                       0|                 0|                 0|                   3|                    0|                0|                 0|                   0|                       1|                    0|                             1|                    0|                0|                 0|                 0|                0|                0|                0|                2|                  0|                0|               0|           0|                   0|                 0|              0.0|               0.0|                   0|        0|                 0|                0|                 0|                         0|                 0|                  Apr-00|                     0|                 0|                 0|               0.0|                  0|                    0|                               0|                                 0|                                  0|            N|INTEREST ONLY-3 M...|   UNEMPLOYMENT|         ACTIVE|            3|         378.39|             Feb-19|           Apr-19|                 Feb-19|              3|          22|   Late (16-30 days)|                                   1135.17|                      15351.85|                     1045.41|               Cash|                   N|                   Mar-19|           ACTIVE|         Feb-19|             2576|                 60.0|               12|\n",
            "|    max|null|     null|             40000|             40000|           40000.0| 60 months|   8.81%|           1618.24|     G|       G5|       youthworker|       n/a|          RENT|        9757200.0|           Verified| Oct-18|Late (31-120 days)|         y|null|null|vacation|Vacation|   999xx|        WY|             999.0|                 24|          Sep-99|                  5|                   160|                   119|               94|                  6|           2358150|    99.90%|               160|                  w|           40000.0|           40000.0|      43313.65022|         43313.65|           40000.0|          4981.05|              141.6|             3444.48|               620.0064|      Oct-18|          41253.54|      May-19|            Sep-18|                         8|                        162|          1|       Joint App|         6282000.0|             39.99|                 Verified|             0|            208593|           9971659|                13|               56|                 6|                19|               505|           1837038|               428|                22|               40|           338224|               188|          1596201|                29|                56|                51|                  43|            623229|            605996|             183.8|                       7|             31593|               827|                 826|                  382|              382|                87|                 640|                     152|                   25|                           160|                   31|               48|                59|                64|               69|              130|               69|              127|                 37|               94|               0|           0|                  23|                24|            100.0|             100.0|                   6|        0|           9999999|          2622906|            666200|                   2118996|           1110019|                  Sep-99|                     6|                15|                67|             170.1|                 34|                   95|                              21|                                15|                                153|            Y|INTEREST ONLY-3 M...|   UNEMPLOYMENT|         ACTIVE|            3|         378.39|             Feb-19|           Apr-19|                 Feb-19|              3|          22|   Late (16-30 days)|                                   1135.17|                      15351.85|                     1045.41|          DirectPay|                   Y|                   Mar-19|           BROKEN|         Mar-19|            10119|                65.12|               18|\n",
            "+-------+----+---------+------------------+------------------+------------------+----------+--------+------------------+------+---------+------------------+----------+--------------+-----------------+-------------------+-------+------------------+----------+----+----+--------+--------+--------+----------+------------------+-------------------+----------------+-------------------+----------------------+----------------------+-----------------+-------------------+------------------+----------+------------------+-------------------+------------------+------------------+-----------------+-----------------+------------------+-----------------+-------------------+--------------------+-----------------------+------------+------------------+------------+------------------+--------------------------+---------------------------+-----------+----------------+------------------+------------------+-------------------------+--------------+------------------+------------------+------------------+-----------------+------------------+------------------+------------------+------------------+------------------+------------------+-----------------+-----------------+------------------+-----------------+------------------+------------------+------------------+--------------------+------------------+------------------+------------------+------------------------+------------------+------------------+--------------------+---------------------+-----------------+------------------+--------------------+------------------------+---------------------+------------------------------+---------------------+-----------------+------------------+------------------+-----------------+-----------------+-----------------+-----------------+-------------------+-----------------+----------------+------------+--------------------+------------------+-----------------+------------------+--------------------+---------+------------------+-----------------+------------------+--------------------------+------------------+------------------------+----------------------+------------------+------------------+------------------+-------------------+---------------------+--------------------------------+----------------------------------+-----------------------------------+-------------+--------------------+---------------+---------------+-------------+---------------+-------------------+-----------------+-----------------------+---------------+------------+--------------------+------------------------------------------+------------------------------+----------------------------+-------------------+--------------------+-------------------------+-----------------+---------------+-----------------+---------------------+-----------------+\n",
            "\n"
          ]
        }
      ]
    },
    {
      "cell_type": "code",
      "source": [
        "#selecting only the required column which will be only usable.\n",
        "df_sel = df.select(\"term\",\"home_ownership\",\"grade\",\"purpose\",\n",
        "                   \"int_rate\",\"addr_state\",\"loan_status\",\"application_type\",\n",
        "                   \"loan_amnt\",\"emp_length\",\"annual_inc\",\"dti\",\"delinq_2yrs\",\n",
        "                   \"revol_util\",\"total_acc\",\"num_tl_90g_dpd_24m\",\"dti_joint\")"
      ],
      "metadata": {
        "id": "IgZmYrCG54kq"
      },
      "execution_count": 4,
      "outputs": []
    },
    {
      "cell_type": "code",
      "source": [
        "df_sel.describe().show()"
      ],
      "metadata": {
        "id": "HE_7rvhg4LWA",
        "colab": {
          "base_uri": "https://localhost:8080/"
        },
        "outputId": "85521542-5355-4a36-b65a-ebc068756dfe"
      },
      "execution_count": null,
      "outputs": [
        {
          "output_type": "stream",
          "name": "stdout",
          "text": [
            "+-------+----------+--------------+------+--------+--------+----------+------------------+----------------+------------------+----------+-----------------+------------------+-------------------+----------+------------------+--------------------+------------------+\n",
            "|summary|      term|home_ownership| grade| purpose|int_rate|addr_state|       loan_status|application_type|         loan_amnt|emp_length|       annual_inc|               dti|        delinq_2yrs|revol_util|         total_acc|  num_tl_90g_dpd_24m|         dti_joint|\n",
            "+-------+----------+--------------+------+--------+--------+----------+------------------+----------------+------------------+----------+-----------------+------------------+-------------------+----------+------------------+--------------------+------------------+\n",
            "|  count|    128412|        128412|128412|  128412|  128412|    128412|            128412|          128412|            128412|    128412|           128412|            128175|             128412|    128256|            128412|              128412|             16782|\n",
            "|   mean|      null|          null|  null|    null|    null|      null|              null|            null| 15971.32102139987|      null| 82797.3278609476|19.933177530719778|0.22783696227766875|      null|22.677413325857398|0.059488209824626985|19.226602312000985|\n",
            "| stddev|      null|          null|  null|    null|    null|      null|              null|            null|10150.384232741915|      null|108298.4657915005|20.143542243475476| 0.7337929617806072|      null|12.129215673024733| 0.41065173659442344| 8.141631264595569|\n",
            "|    min| 36 months|           ANY|     A|     car|  10.08%|        AK|       Charged Off|      Individual|              1000|    1 year|              0.0|               0.0|                  0|        0%|                 2|                   0|               0.0|\n",
            "|    max| 60 months|          RENT|     G|vacation|   8.81%|        WY|Late (31-120 days)|       Joint App|             40000|       n/a|        9757200.0|             999.0|                 24|    99.90%|               160|                  23|             39.99|\n",
            "+-------+----------+--------------+------+--------+--------+----------+------------------+----------------+------------------+----------+-----------------+------------------+-------------------+----------+------------------+--------------------+------------------+\n",
            "\n"
          ]
        }
      ]
    },
    {
      "cell_type": "code",
      "source": [
        "#further limiting the columns\n",
        "df_sel.describe(\"term\",\"loan_amnt\",\"emp_length\",\"annual_inc\",\"dti\",\"delinq_2yrs\",\"revol_util\",\"total_acc\").show()"
      ],
      "metadata": {
        "colab": {
          "base_uri": "https://localhost:8080/"
        },
        "id": "1L0EpPzkqJkY",
        "outputId": "23855685-7b8d-4213-d002-d83a603d03e3"
      },
      "execution_count": null,
      "outputs": [
        {
          "output_type": "stream",
          "name": "stdout",
          "text": [
            "+-------+----------+------------------+----------+-----------------+------------------+-------------------+----------+------------------+\n",
            "|summary|      term|         loan_amnt|emp_length|       annual_inc|               dti|        delinq_2yrs|revol_util|         total_acc|\n",
            "+-------+----------+------------------+----------+-----------------+------------------+-------------------+----------+------------------+\n",
            "|  count|    128412|            128412|    128412|           128412|            128175|             128412|    128256|            128412|\n",
            "|   mean|      null| 15971.32102139987|      null| 82797.3278609476|19.933177530719778|0.22783696227766875|      null|22.677413325857398|\n",
            "| stddev|      null|10150.384232741915|      null|108298.4657915005|20.143542243475476| 0.7337929617806072|      null|12.129215673024733|\n",
            "|    min| 36 months|              1000|    1 year|              0.0|               0.0|                  0|        0%|                 2|\n",
            "|    max| 60 months|             40000|       n/a|        9757200.0|             999.0|                 24|    99.90%|               160|\n",
            "+-------+----------+------------------+----------+-----------------+------------------+-------------------+----------+------------------+\n",
            "\n"
          ]
        }
      ]
    },
    {
      "cell_type": "code",
      "source": [
        "#caching-it will load the dataframe into executor memeory, so that it can process it fast\n",
        "#subsequent operations can be performed faster without having to recompute the DataFrame from the original source or any intermediate transformations.\n",
        "#NOte: If you cache too many DataFrames or too large DataFrames, it can lead to excessive memory consumption, which might cause memory-related issues in your Spark cluster.\n",
        "df_sel.cache()"
      ],
      "metadata": {
        "id": "xURsB5EfqzP8",
        "colab": {
          "base_uri": "https://localhost:8080/"
        },
        "outputId": "a0c234a9-c29b-44d3-e210-6e4575272ba3"
      },
      "execution_count": null,
      "outputs": [
        {
          "output_type": "execute_result",
          "data": {
            "text/plain": [
              "DataFrame[term: string, home_ownership: string, grade: string, purpose: string, int_rate: string, addr_state: string, loan_status: string, application_type: string, loan_amnt: int, emp_length: string, annual_inc: double, dti: double, delinq_2yrs: int, revol_util: string, total_acc: int, num_tl_90g_dpd_24m: int, dti_joint: double]"
            ]
          },
          "metadata": {},
          "execution_count": 7
        }
      ]
    },
    {
      "cell_type": "code",
      "source": [
        "df_sel.describe(\"loan_amnt\",\"emp_length\",\"dti\",\"delinq_2yrs\",\"revol_util\",\"total_acc\").show()"
      ],
      "metadata": {
        "colab": {
          "base_uri": "https://localhost:8080/"
        },
        "id": "MnpKjWxUt-fR",
        "outputId": "d0792f46-8ef6-441c-abaa-c3b343c9d60e"
      },
      "execution_count": null,
      "outputs": [
        {
          "output_type": "stream",
          "name": "stdout",
          "text": [
            "+-------+------------------+----------+------------------+-------------------+----------+------------------+\n",
            "|summary|         loan_amnt|emp_length|               dti|        delinq_2yrs|revol_util|         total_acc|\n",
            "+-------+------------------+----------+------------------+-------------------+----------+------------------+\n",
            "|  count|            128412|    128412|            128175|             128412|    128256|            128412|\n",
            "|   mean| 15971.32102139987|      null|19.933177530719778|0.22783696227766875|      null|22.677413325857398|\n",
            "| stddev|10150.384232741915|      null|20.143542243475476| 0.7337929617806072|      null|12.129215673024733|\n",
            "|    min|              1000|    1 year|               0.0|                  0|        0%|                 2|\n",
            "|    max|             40000|       n/a|             999.0|                 24|    99.90%|               160|\n",
            "+-------+------------------+----------+------------------+-------------------+----------+------------------+\n",
            "\n"
          ]
        }
      ]
    },
    {
      "cell_type": "code",
      "source": [
        "#Checking employee length varible\n",
        "spark.sql(\"select distinct emp_length from loanstats limit 50\").show()"
      ],
      "metadata": {
        "colab": {
          "base_uri": "https://localhost:8080/"
        },
        "id": "5AdjajA9v9Cp",
        "outputId": "c7f2bb94-a37d-4bdf-c8ce-618ac90ff23b"
      },
      "execution_count": null,
      "outputs": [
        {
          "output_type": "stream",
          "name": "stdout",
          "text": [
            "+----------+\n",
            "|emp_length|\n",
            "+----------+\n",
            "|   5 years|\n",
            "|   9 years|\n",
            "|    1 year|\n",
            "|       n/a|\n",
            "|   2 years|\n",
            "|   7 years|\n",
            "|   8 years|\n",
            "|   4 years|\n",
            "|   6 years|\n",
            "|   3 years|\n",
            "| 10+ years|\n",
            "|  < 1 year|\n",
            "+----------+\n",
            "\n"
          ]
        }
      ]
    },
    {
      "cell_type": "code",
      "source": [
        "from pyspark.sql.functions import regexp_replace, regexp_extract\n",
        "from pyspark.sql.functions import col\n",
        "\n",
        "regexp_string='years|year|\\\\+|\\\\<'  #before + we nneed to prefix \\\\ or else it will take the + symbol as an operator.\n",
        "df_sel.select(regexp_replace(col('emp_length'),regexp_string,\"\").alias(\"emplenght_cleaned\"),col(\"emp_length\")).show()"
      ],
      "metadata": {
        "colab": {
          "base_uri": "https://localhost:8080/"
        },
        "id": "b93btk0h0Veq",
        "outputId": "d4233181-bf1c-4a55-c9f4-f36eb915244c"
      },
      "execution_count": null,
      "outputs": [
        {
          "output_type": "stream",
          "name": "stdout",
          "text": [
            "+-----------------+----------+\n",
            "|emplenght_cleaned|emp_length|\n",
            "+-----------------+----------+\n",
            "|               1 |  < 1 year|\n",
            "|              10 | 10+ years|\n",
            "|               1 |  < 1 year|\n",
            "|              n/a|       n/a|\n",
            "|               5 |   5 years|\n",
            "|               9 |   9 years|\n",
            "|               3 |   3 years|\n",
            "|              10 | 10+ years|\n",
            "|              n/a|       n/a|\n",
            "|              10 | 10+ years|\n",
            "|               1 |  < 1 year|\n",
            "|              10 | 10+ years|\n",
            "|              10 | 10+ years|\n",
            "|               6 |   6 years|\n",
            "|               5 |   5 years|\n",
            "|              10 | 10+ years|\n",
            "|               2 |   2 years|\n",
            "|              10 | 10+ years|\n",
            "|               1 |  < 1 year|\n",
            "|               6 |   6 years|\n",
            "+-----------------+----------+\n",
            "only showing top 20 rows\n",
            "\n"
          ]
        }
      ]
    },
    {
      "cell_type": "code",
      "source": [
        "#other way using extracting only the digits\n",
        "from pyspark.sql.functions import regexp_replace, regexp_extract\n",
        "regexp_string='\\\\d+'\n",
        "df_sel.select(regexp_extract(col('emp_length'),regexp_string,0).alias(\"emplenght_cleaned\"),col(\"emp_length\")).show()"
      ],
      "metadata": {
        "colab": {
          "base_uri": "https://localhost:8080/"
        },
        "id": "JbMlTvcu5EjH",
        "outputId": "173073ee-c381-42ba-aae2-07acd620ed08"
      },
      "execution_count": null,
      "outputs": [
        {
          "output_type": "stream",
          "name": "stdout",
          "text": [
            "+-----------------+----------+\n",
            "|emplenght_cleaned|emp_length|\n",
            "+-----------------+----------+\n",
            "|                1|  < 1 year|\n",
            "|               10| 10+ years|\n",
            "|                1|  < 1 year|\n",
            "|                 |       n/a|\n",
            "|                5|   5 years|\n",
            "|                9|   9 years|\n",
            "|                3|   3 years|\n",
            "|               10| 10+ years|\n",
            "|                 |       n/a|\n",
            "|               10| 10+ years|\n",
            "|                1|  < 1 year|\n",
            "|               10| 10+ years|\n",
            "|               10| 10+ years|\n",
            "|                6|   6 years|\n",
            "|                5|   5 years|\n",
            "|               10| 10+ years|\n",
            "|                2|   2 years|\n",
            "|               10| 10+ years|\n",
            "|                1|  < 1 year|\n",
            "|                6|   6 years|\n",
            "+-----------------+----------+\n",
            "only showing top 20 rows\n",
            "\n"
          ]
        }
      ]
    },
    {
      "cell_type": "code",
      "source": [
        "#other way using extracting only the digits\n",
        "from pyspark.sql.functions import regexp_replace, regexp_extract\n",
        "#regexp_string='\\\\d+'\n",
        "#df_sel.select(regexp_extract(col('emp_length'),regexp_string,0).alias(\"emplenght_cleaned\"),col(\"emp_length\")).show()\n",
        "reg='months'\n",
        "df_sel.select(regexp_replace(col('term'),reg,\"\").alias(\"term_cleaned\"),col('term')).show()\n",
        "\n",
        "'''regexp_string='years|year|\\\\+|\\\\<'  #before + we nneed to prefix \\\\ or else it will take the + symbol as an operator.\n",
        "df_sel.select(regexp_replace(col('emp_length'),regexp_string,\"\").alias(\"emplenght_cleaned\"),col(\"emp_length\")).show()'''"
      ],
      "metadata": {
        "colab": {
          "base_uri": "https://localhost:8080/",
          "height": 504
        },
        "id": "9VTsUuDo5Xcv",
        "outputId": "7d84c987-7197-4145-d894-754c4216c788"
      },
      "execution_count": null,
      "outputs": [
        {
          "output_type": "stream",
          "name": "stdout",
          "text": [
            "+------------+----------+\n",
            "|term_cleaned|      term|\n",
            "+------------+----------+\n",
            "|         36 | 36 months|\n",
            "|         36 | 36 months|\n",
            "|         60 | 60 months|\n",
            "|         60 | 60 months|\n",
            "|         60 | 60 months|\n",
            "|         36 | 36 months|\n",
            "|         36 | 36 months|\n",
            "|         36 | 36 months|\n",
            "|         36 | 36 months|\n",
            "|         36 | 36 months|\n",
            "|         60 | 60 months|\n",
            "|         60 | 60 months|\n",
            "|         60 | 60 months|\n",
            "|         36 | 36 months|\n",
            "|         60 | 60 months|\n",
            "|         60 | 60 months|\n",
            "|         36 | 36 months|\n",
            "|         60 | 60 months|\n",
            "|         60 | 60 months|\n",
            "|         36 | 36 months|\n",
            "+------------+----------+\n",
            "only showing top 20 rows\n",
            "\n"
          ]
        },
        {
          "output_type": "execute_result",
          "data": {
            "text/plain": [
              "'regexp_string=\\'years|year|\\\\+|\\\\<\\'  #before + we nneed to prefix \\\\ or else it will take the + symbol as an operator.\\ndf_sel.select(regexp_replace(col(\\'emp_length\\'),regexp_string,\"\").alias(\"emplenght_cleaned\"),col(\"emp_length\")).show()'"
            ],
            "application/vnd.google.colaboratory.intrinsic+json": {
              "type": "string"
            }
          },
          "metadata": {},
          "execution_count": 10
        }
      ]
    },
    {
      "cell_type": "code",
      "source": [
        "#assigning all the above cleaned steps to df_sel\n",
        "df_sel=df_sel.withColumn(\"term_cleaned\",regexp_replace(col(\"term\"),\"months\",\"\")) \\\n",
        "             .withColumn(\"emplen_cleaned\",regexp_extract(col(\"emp_length\"),\"\\\\d+\",0))"
      ],
      "metadata": {
        "id": "Vm2ZCY_6MMFE"
      },
      "execution_count": null,
      "outputs": []
    },
    {
      "cell_type": "code",
      "source": [
        "df_sel.select(\"term\",\"term_cleaned\",\"emp_length\",\"emplen_cleaned\").show()"
      ],
      "metadata": {
        "colab": {
          "base_uri": "https://localhost:8080/"
        },
        "id": "huWeC5KkNNT4",
        "outputId": "5df82fd6-5698-4da2-d093-ce8244ffe280"
      },
      "execution_count": null,
      "outputs": [
        {
          "output_type": "stream",
          "name": "stdout",
          "text": [
            "+----------+------------+----------+--------------+\n",
            "|      term|term_cleaned|emp_length|emplen_cleaned|\n",
            "+----------+------------+----------+--------------+\n",
            "| 36 months|         36 |  < 1 year|             1|\n",
            "| 36 months|         36 | 10+ years|            10|\n",
            "| 60 months|         60 |  < 1 year|             1|\n",
            "| 60 months|         60 |       n/a|              |\n",
            "| 60 months|         60 |   5 years|             5|\n",
            "| 36 months|         36 |   9 years|             9|\n",
            "| 36 months|         36 |   3 years|             3|\n",
            "| 36 months|         36 | 10+ years|            10|\n",
            "| 36 months|         36 |       n/a|              |\n",
            "| 36 months|         36 | 10+ years|            10|\n",
            "| 60 months|         60 |  < 1 year|             1|\n",
            "| 60 months|         60 | 10+ years|            10|\n",
            "| 60 months|         60 | 10+ years|            10|\n",
            "| 36 months|         36 |   6 years|             6|\n",
            "| 60 months|         60 |   5 years|             5|\n",
            "| 60 months|         60 | 10+ years|            10|\n",
            "| 36 months|         36 |   2 years|             2|\n",
            "| 60 months|         60 | 10+ years|            10|\n",
            "| 60 months|         60 |  < 1 year|             1|\n",
            "| 36 months|         36 |   6 years|             6|\n",
            "+----------+------------+----------+--------------+\n",
            "only showing top 20 rows\n",
            "\n"
          ]
        }
      ]
    },
    {
      "cell_type": "code",
      "source": [
        "df_sel.printSchema()"
      ],
      "metadata": {
        "colab": {
          "base_uri": "https://localhost:8080/"
        },
        "id": "f-zK2QkEiQfM",
        "outputId": "dccaaf36-9ea5-443d-a177-3256a5542995"
      },
      "execution_count": null,
      "outputs": [
        {
          "output_type": "stream",
          "name": "stdout",
          "text": [
            "root\n",
            " |-- term: string (nullable = true)\n",
            " |-- home_ownership: string (nullable = true)\n",
            " |-- grade: string (nullable = true)\n",
            " |-- purpose: string (nullable = true)\n",
            " |-- int_rate: string (nullable = true)\n",
            " |-- addr_state: string (nullable = true)\n",
            " |-- loan_status: string (nullable = true)\n",
            " |-- application_type: string (nullable = true)\n",
            " |-- loan_amnt: integer (nullable = true)\n",
            " |-- emp_length: string (nullable = true)\n",
            " |-- annual_inc: double (nullable = true)\n",
            " |-- dti: double (nullable = true)\n",
            " |-- delinq_2yrs: integer (nullable = true)\n",
            " |-- revol_util: string (nullable = true)\n",
            " |-- total_acc: integer (nullable = true)\n",
            " |-- num_tl_90g_dpd_24m: integer (nullable = true)\n",
            " |-- dti_joint: double (nullable = true)\n",
            " |-- term_cleaned: string (nullable = true)\n",
            " |-- emplen_cleaned: string (nullable = true)\n",
            "\n"
          ]
        }
      ]
    },
    {
      "cell_type": "code",
      "source": [
        "#Creating a temporary variable for df_sel\n",
        "df_sel.createOrReplaceTempView(\"loanstatus_sel\")"
      ],
      "metadata": {
        "id": "FvPzR-sAjE-r"
      },
      "execution_count": null,
      "outputs": []
    },
    {
      "cell_type": "code",
      "source": [
        "spark.sql(\"select * from loanstatus_sel\").show()"
      ],
      "metadata": {
        "colab": {
          "base_uri": "https://localhost:8080/"
        },
        "id": "FTPU_IRdjX65",
        "outputId": "0279834a-951a-4951-f0dd-8ba98001c5d7"
      },
      "execution_count": null,
      "outputs": [
        {
          "output_type": "stream",
          "name": "stdout",
          "text": [
            "+----------+--------------+-----+------------------+--------+----------+-----------+----------------+---------+----------+----------+-----+-----------+----------+---------+------------------+---------+------------+--------------+\n",
            "|      term|home_ownership|grade|           purpose|int_rate|addr_state|loan_status|application_type|loan_amnt|emp_length|annual_inc|  dti|delinq_2yrs|revol_util|total_acc|num_tl_90g_dpd_24m|dti_joint|term_cleaned|emplen_cleaned|\n",
            "+----------+--------------+-----+------------------+--------+----------+-----------+----------------+---------+----------+----------+-----+-----------+----------+---------+------------------+---------+------------+--------------+\n",
            "| 36 months|      MORTGAGE|    B|debt_consolidation|  10.33%|        OR|    Current|      Individual|    10000|  < 1 year|  280000.0| 6.15|          2|       38%|       23|                 0|     null|         36 |             1|\n",
            "| 36 months|          RENT|    C|debt_consolidation|  13.56%|        NY|    Current|      Individual|     2500| 10+ years|   55000.0|18.24|          0|    10.30%|       34|                 0|     null|         36 |            10|\n",
            "| 60 months|      MORTGAGE|    C|debt_consolidation|  13.56%|        PA|    Current|      Individual|    12000|  < 1 year|   40000.0|19.23|          0|    55.50%|        9|                 0|     null|         60 |             1|\n",
            "| 60 months|      MORTGAGE|    C|debt_consolidation|  14.47%|        TX|    Current|       Joint App|    15000|       n/a|   30000.0| 41.6|          0|    37.20%|       30|                 0|    34.95|         60 |              |\n",
            "| 60 months|      MORTGAGE|    D|debt_consolidation|  17.97%|        NC|    Current|      Individual|    16000|   5 years|   51000.0|21.91|          0|    24.80%|       27|                 0|     null|         60 |             5|\n",
            "| 36 months|          RENT|    E|       credit_card|  23.40%|        WV|    Current|      Individual|     9600|   9 years|   65000.0|23.01|          1|    37.50%|       20|                 0|     null|         36 |             9|\n",
            "| 36 months|          RENT|    E|debt_consolidation|  23.40%|        NJ|    Current|      Individual|     4000|   3 years|   90000.0|26.33|          0|    19.20%|       20|                 0|     null|         36 |             3|\n",
            "| 36 months|      MORTGAGE|    D|               car|  20.89%|        NJ|    Current|       Joint App|     3500| 10+ years|   40000.0| 9.09|          0|    33.50%|       18|                 0|    10.59|         36 |            10|\n",
            "| 36 months|      MORTGAGE|    B|  home_improvement|  12.98%|        KY|    Current|      Individual|     9600|       n/a|   35704.0| 0.84|          0|    11.50%|       23|                 0|     null|         36 |              |\n",
            "| 36 months|           OWN|    E|debt_consolidation|  23.40%|        AL|    Current|      Individual|     8000| 10+ years|   43000.0|33.24|          0|    81.30%|       16|                 0|     null|         36 |            10|\n",
            "| 60 months|          RENT|    E|       credit_card|  26.31%|        SC|    Current|      Individual|    16000|  < 1 year|   33000.0|33.62|          0|    65.50%|       22|                 0|     null|         60 |             1|\n",
            "| 60 months|      MORTGAGE|    D|debt_consolidation|  18.94%|        LA|    Current|      Individual|    30000| 10+ years|   90000.0|26.52|          0|    24.20%|       44|                 0|     null|         60 |            10|\n",
            "| 60 months|      MORTGAGE|    D|debt_consolidation|  19.92%|        MO|    Current|      Individual|    10000| 10+ years|   80000.0|20.67|          0|    73.70%|       19|                 0|     null|         60 |            10|\n",
            "| 36 months|      MORTGAGE|    D|debt_consolidation|  17.97%|        MI|    Current|      Individual|     5000|   6 years|   59280.0|10.51|          0|    19.10%|       13|                 0|     null|         36 |             6|\n",
            "| 60 months|          RENT|    D|debt_consolidation|  20.89%|        KS|    Current|      Individual|    23000|   5 years|   68107.0| 0.52|          0|       13%|       10|                 0|     null|         60 |             5|\n",
            "| 60 months|      MORTGAGE|    B|       credit_card|  11.80%|        VA|    Current|      Individual|    32075| 10+ years|  150000.0|22.21|          0|       32%|       24|                 0|     null|         60 |            10|\n",
            "| 36 months|      MORTGAGE|    E|             other|  23.40%|        PA|    Current|      Individual|    13000|   2 years|   90000.0|39.73|          0|    83.10%|       20|                 0|     null|         36 |             2|\n",
            "| 60 months|      MORTGAGE|    C|debt_consolidation|  15.02%|        MO|    Current|      Individual|    35000| 10+ years|  290000.0|  7.6|          0|    93.70%|       33|                 0|     null|         60 |            10|\n",
            "| 60 months|      MORTGAGE|    B|debt_consolidation|  11.31%|        MI|    Current|      Individual|    40000|  < 1 year|  136000.0|15.41|          0|       81%|       22|                 0|     null|         60 |             1|\n",
            "| 36 months|      MORTGAGE|    B|       credit_card|  10.33%|        PA|    Current|      Individual|     8000|   6 years|   38000.0|19.84|          0|    37.60%|       25|                 0|     null|         36 |             6|\n",
            "+----------+--------------+-----+------------------+--------+----------+-----------+----------------+---------+----------+----------+-----+-----------+----------+---------+------------------+---------+------------+--------------+\n",
            "only showing top 20 rows\n",
            "\n"
          ]
        }
      ]
    },
    {
      "cell_type": "markdown",
      "source": [
        "Coorelation Matrix"
      ],
      "metadata": {
        "id": "qsOLhIxakufP"
      }
    },
    {
      "cell_type": "code",
      "source": [
        "'''df_sel.stat.corr('annual_inc','loan_amnt')'''  #stat-refers to statistic function,corr-corelation between two column\n",
        "                                           #In here we are checking if the two columns are correlated to eacbh other\n",
        "                                           #-1- Negatively correlated\n",
        "                                           #+1 - Positively correlated\n",
        "                                           #0 - No Correlation\n",
        "\n",
        "                                           #OR\n",
        "spark.sql(\"select corr(annual_inc,loan_amnt) from loanstatus_sel\").show() #in sql"
      ],
      "metadata": {
        "colab": {
          "base_uri": "https://localhost:8080/"
        },
        "id": "HanqBHYIkx6d",
        "outputId": "5ff89574-d977-48a6-9ab7-2c34611b7a74"
      },
      "execution_count": null,
      "outputs": [
        {
          "output_type": "stream",
          "name": "stdout",
          "text": [
            "+---------------------------+\n",
            "|corr(annual_inc, loan_amnt)|\n",
            "+---------------------------+\n",
            "|        0.20103225337914624|\n",
            "+---------------------------+\n",
            "\n"
          ]
        }
      ]
    },
    {
      "cell_type": "code",
      "source": [
        "#from above one we can see it is not so much correlated."
      ],
      "metadata": {
        "id": "eO6Xq4Jyl8dn"
      },
      "execution_count": null,
      "outputs": []
    },
    {
      "cell_type": "code",
      "source": [
        "spark.sql(\"select corr(loan_amnt,term_cleaned) from loanstatus_sel\").show()"
      ],
      "metadata": {
        "colab": {
          "base_uri": "https://localhost:8080/"
        },
        "id": "vGywJjrPmAHa",
        "outputId": "a5aee62e-a4a3-4e41-940d-931e7f49b1d1"
      },
      "execution_count": null,
      "outputs": [
        {
          "output_type": "stream",
          "name": "stdout",
          "text": [
            "+-----------------------------+\n",
            "|corr(loan_amnt, term_cleaned)|\n",
            "+-----------------------------+\n",
            "|           0.3925941141844244|\n",
            "+-----------------------------+\n",
            "\n"
          ]
        }
      ]
    },
    {
      "cell_type": "code",
      "source": [
        "#still not a strong correlation"
      ],
      "metadata": {
        "id": "O1JMg4sjm4TU"
      },
      "execution_count": null,
      "outputs": []
    },
    {
      "cell_type": "code",
      "source": [
        "#Crosstab - displays the frequency distribution of values for one column against another, providing a summary of the relationship between the two columns.\n",
        "df_sel.stat.crosstab('loan_status','grade').show()"
      ],
      "metadata": {
        "colab": {
          "base_uri": "https://localhost:8080/"
        },
        "id": "zJGATmmem7oB",
        "outputId": "4b1a10c8-1e00-4755-9c35-f1e680f1de2e"
      },
      "execution_count": null,
      "outputs": [
        {
          "output_type": "stream",
          "name": "stdout",
          "text": [
            "+------------------+-----+-----+-----+-----+----+---+---+\n",
            "| loan_status_grade|    A|    B|    C|    D|   E|  F|  G|\n",
            "+------------------+-----+-----+-----+-----+----+---+---+\n",
            "|        Fully Paid| 1188| 1333| 1175|  807| 360| 36|  9|\n",
            "|   In Grace Period|   74|  112|  146|  122|  54|  4|  1|\n",
            "|       Charged Off|   16|   35|   38|   19|   8|  3|  3|\n",
            "|Late (31-120 days)|   68|  164|  234|  220| 142| 14|  7|\n",
            "|           Current|36639|34139|29323|15823|5352|321| 79|\n",
            "| Late (16-30 days)|   26|   78|  102|   81|  46|  9|  2|\n",
            "+------------------+-----+-----+-----+-----+----+---+---+\n",
            "\n"
          ]
        }
      ]
    },
    {
      "cell_type": "code",
      "source": [
        "freq=df_sel.stat.freqItems(['purpose','grade'],0.3)\n",
        "freq.collect()"
      ],
      "metadata": {
        "colab": {
          "base_uri": "https://localhost:8080/"
        },
        "id": "JdRO5ISjoDhh",
        "outputId": "d268af71-9075-4e69-f439-d5682ce7e6fc"
      },
      "execution_count": null,
      "outputs": [
        {
          "output_type": "execute_result",
          "data": {
            "text/plain": [
              "[Row(purpose_freqItems=['debt_consolidation', 'credit_card', 'other'], grade_freqItems=['A', 'B', 'C'])]"
            ]
          },
          "metadata": {},
          "execution_count": 30
        }
      ]
    },
    {
      "cell_type": "code",
      "source": [
        "#similar way\n",
        "df_sel.groupBy('purpose').count().orderBy(col('count').desc()).show()"
      ],
      "metadata": {
        "colab": {
          "base_uri": "https://localhost:8080/"
        },
        "id": "7jk1v0LupAtd",
        "outputId": "98978522-09c8-4d6d-951e-01113de205af"
      },
      "execution_count": null,
      "outputs": [
        {
          "output_type": "stream",
          "name": "stdout",
          "text": [
            "+------------------+-----+\n",
            "|           purpose|count|\n",
            "+------------------+-----+\n",
            "|debt_consolidation|70603|\n",
            "|       credit_card|34961|\n",
            "|  home_improvement| 7512|\n",
            "|             other| 7094|\n",
            "|    major_purchase| 2303|\n",
            "|           medical| 1499|\n",
            "|    small_business| 1051|\n",
            "|               car| 1037|\n",
            "|             house|  823|\n",
            "|          vacation|  802|\n",
            "|            moving|  656|\n",
            "|  renewable_energy|   71|\n",
            "+------------------+-----+\n",
            "\n"
          ]
        }
      ]
    },
    {
      "cell_type": "markdown",
      "source": [
        "Aggregate Function"
      ],
      "metadata": {
        "id": "ixM5zg3FmW4-"
      }
    },
    {
      "cell_type": "code",
      "source": [
        "from pyspark.sql.functions import count,mean,stddev_pop,min,max,avg"
      ],
      "metadata": {
        "id": "54BaB5s8nXIR"
      },
      "execution_count": null,
      "outputs": []
    },
    {
      "cell_type": "code",
      "source": [
        "#Checking how many null values are present in the column\n",
        "from pyspark.sql.functions import isnan,when,count,col\n",
        "df_sel.select([count(when(isnan(c)|col(c).isNull(),c)).alias(c) for c in df_sel.columns]).show()"
      ],
      "metadata": {
        "colab": {
          "base_uri": "https://localhost:8080/"
        },
        "id": "AH6C1smnr3w7",
        "outputId": "d8a95083-615b-4e40-8d41-6575cfead452"
      },
      "execution_count": null,
      "outputs": [
        {
          "output_type": "stream",
          "name": "stdout",
          "text": [
            "+----+--------------+-----+-------+--------+----------+-----------+----------------+---------+----------+----------+---+-----------+----------+---------+------------------+---------+\n",
            "|term|home_ownership|grade|purpose|int_rate|addr_state|loan_status|application_type|loan_amnt|emp_length|annual_inc|dti|delinq_2yrs|revol_util|total_acc|num_tl_90g_dpd_24m|dti_joint|\n",
            "+----+--------------+-----+-------+--------+----------+-----------+----------------+---------+----------+----------+---+-----------+----------+---------+------------------+---------+\n",
            "|   0|             0|    0|      0|       0|         0|          0|               0|        0|         0|         0|237|          0|       156|        0|                 0|   111630|\n",
            "+----+--------------+-----+-------+--------+----------+-----------+----------------+---------+----------+----------+---+-----------+----------+---------+------------------+---------+\n",
            "\n"
          ]
        }
      ]
    },
    {
      "cell_type": "code",
      "source": [
        "#DTI Column\n",
        "df_sel.describe(\"dti\",\"revol_util\").show()"
      ],
      "metadata": {
        "colab": {
          "base_uri": "https://localhost:8080/"
        },
        "id": "4pcsCT_Rulqs",
        "outputId": "d4317d7b-7d52-41f0-aeb7-ef08639887a0"
      },
      "execution_count": null,
      "outputs": [
        {
          "output_type": "stream",
          "name": "stdout",
          "text": [
            "+-------+------------------+----------+\n",
            "|summary|               dti|revol_util|\n",
            "+-------+------------------+----------+\n",
            "|  count|            128175|    128256|\n",
            "|   mean|19.933177530719778|      null|\n",
            "| stddev|20.143542243475476|      null|\n",
            "|    min|               0.0|        0%|\n",
            "|    max|             999.0|    99.90%|\n",
            "+-------+------------------+----------+\n",
            "\n"
          ]
        }
      ]
    },
    {
      "cell_type": "code",
      "source": [
        "from pyspark.sql.functions import regexp_replace, regexp_extract\n",
        "#spark.sql(\"select ceil(regexp_replace(revol_util,'\\%',\"\")), count(*) from loanstatus_sel group by ceil(regexp_replace(revol_util,'\\%',\"\"))\")\n",
        "spark.sql(\"select ceil(regexp_replace(revol_util, '\\%', '')), count(*) from loanstatus_sel group by ceil(regexp_replace(revol_util, '\\%', ''))\").show()"
      ],
      "metadata": {
        "colab": {
          "base_uri": "https://localhost:8080/"
        },
        "id": "bAg0bdr1vofN",
        "outputId": "88751627-d3cf-4ccf-9db4-3f09b881a501"
      },
      "execution_count": null,
      "outputs": [
        {
          "output_type": "stream",
          "name": "stdout",
          "text": [
            "+-----------------------------------------+--------+\n",
            "|CEIL(regexp_replace(revol_util, \\%, , 1))|count(1)|\n",
            "+-----------------------------------------+--------+\n",
            "|                                       29|    1824|\n",
            "|                                       26|    1776|\n",
            "|                                       65|    1297|\n",
            "|                                       54|    1582|\n",
            "|                                       19|    1537|\n",
            "|                                        0|    1132|\n",
            "|                                      112|       2|\n",
            "|                                       22|    1665|\n",
            "|                                        7|     944|\n",
            "|                                       77|     964|\n",
            "|                                       34|    1909|\n",
            "|                                      184|       1|\n",
            "|                                      126|       1|\n",
            "|                                       94|     536|\n",
            "|                                       50|    1697|\n",
            "|                                      110|       3|\n",
            "|                                       57|    1586|\n",
            "|                                       32|    1766|\n",
            "|                                       43|    1729|\n",
            "|                                       84|     794|\n",
            "+-----------------------------------------+--------+\n",
            "only showing top 20 rows\n",
            "\n"
          ]
        }
      ]
    },
    {
      "cell_type": "code",
      "source": [
        "df_sel=df_sel.withColumn(\"revolutil_cleaned\",regexp_extract(col(\"revol_util\"),\"\\\\d+\",0))"
      ],
      "metadata": {
        "id": "5i9RmNEcz3zS"
      },
      "execution_count": null,
      "outputs": []
    },
    {
      "cell_type": "code",
      "source": [
        "df_sel.describe('revol_util','revolutil_cleaned').show()"
      ],
      "metadata": {
        "colab": {
          "base_uri": "https://localhost:8080/"
        },
        "id": "9JiF5ytOwxo1",
        "outputId": "7db11140-a48d-4279-de3f-ea72669374bf"
      },
      "execution_count": null,
      "outputs": [
        {
          "output_type": "stream",
          "name": "stdout",
          "text": [
            "+-------+----------+------------------+\n",
            "|summary|revol_util| revolutil_cleaned|\n",
            "+-------+----------+------------------+\n",
            "|  count|    128256|            128256|\n",
            "|   mean|      null| 43.76206961077844|\n",
            "| stddev|      null|24.801849528207015|\n",
            "|    min|        0%|                 0|\n",
            "|    max|    99.90%|                99|\n",
            "+-------+----------+------------------+\n",
            "\n"
          ]
        }
      ]
    },
    {
      "cell_type": "code",
      "source": [
        "#Defining a function since the columns may conatin a lot of null values in it\n",
        "def fill_avg(df,colname):\n",
        "  return df.select(colname).agg(avg(colname))"
      ],
      "metadata": {
        "id": "hU6WfKfh59hN"
      },
      "execution_count": null,
      "outputs": []
    },
    {
      "cell_type": "code",
      "source": [
        "rev_avg=fill_avg(df_sel,'revolutil_cleaned')"
      ],
      "metadata": {
        "id": "j-O2QgH56h8N"
      },
      "execution_count": null,
      "outputs": []
    },
    {
      "cell_type": "code",
      "source": [
        "#assigning it to the data frame\n",
        "from pyspark.sql.functions import lit\n",
        "rev_avg=fill_avg(df_sel,'revolutil_cleaned').first()[0]\n",
        "df_sel=df_sel.withColumn('rev_avg',lit(rev_avg))"
      ],
      "metadata": {
        "id": "zVEYHfgj7CA_"
      },
      "execution_count": null,
      "outputs": []
    },
    {
      "cell_type": "code",
      "source": [
        "#coalesce\n",
        "'''\n",
        "  It will take two variables\n",
        "    -if the first is not null it will take it.\n",
        "    -if the first is null it will take the second variable\n",
        "'''\n",
        "from pyspark.sql.functions import coalesce\n",
        "df_sel=df_sel.withColumn('revolutil_cleaned',coalesce(col('revolutil_cleaned'),col('rev_avg')))\n",
        "'''\n",
        "In the above one['revolutil_cleaned'] it will take all the not null values  and whereever there is null it will use the 'rev_avg'.\n",
        "So where ever there is a null it will substitute with the average(will convert the two columns into single columns)\n",
        "'''"
      ],
      "metadata": {
        "colab": {
          "base_uri": "https://localhost:8080/",
          "height": 53
        },
        "id": "IjFf2lPM_NGZ",
        "outputId": "c40a4132-43dc-4e7f-9779-a628aa2ff594"
      },
      "execution_count": null,
      "outputs": [
        {
          "output_type": "execute_result",
          "data": {
            "text/plain": [
              "\"\\nIn the above one['revolutil_cleaned'] it will take all the not null values  and whereever there is null it will use the 'rev_avg'.\\nSo where ever there is a null it will substitute with the average(will convert the two columns into single columns)\\n\""
            ],
            "application/vnd.google.colaboratory.intrinsic+json": {
              "type": "string"
            }
          },
          "metadata": {},
          "execution_count": 34
        }
      ]
    },
    {
      "cell_type": "code",
      "source": [
        "#converting the datatype into double for the column 'revolutil_cleaned'\n",
        "df_sel=df_sel.withColumn('revolutil_cleaned',df_sel['revolutil_cleaned'].cast('double'))\n"
      ],
      "metadata": {
        "id": "A2pcPWPZA24v"
      },
      "execution_count": null,
      "outputs": []
    },
    {
      "cell_type": "code",
      "source": [
        "df_sel.describe('revol_util','revolutil_cleaned').show()"
      ],
      "metadata": {
        "colab": {
          "base_uri": "https://localhost:8080/"
        },
        "id": "5dPwtZiLXvYN",
        "outputId": "9bc5bdb3-6346-4c43-9e05-c1ad9deb347d"
      },
      "execution_count": null,
      "outputs": [
        {
          "output_type": "stream",
          "name": "stdout",
          "text": [
            "+-------+----------+------------------+\n",
            "|summary|revol_util| revolutil_cleaned|\n",
            "+-------+----------+------------------+\n",
            "|  count|    128256|            128412|\n",
            "|   mean|      null|43.762069610778525|\n",
            "| stddev|      null|24.786779696453955|\n",
            "|    min|        0%|               0.0|\n",
            "|    max|    99.90%|             183.0|\n",
            "+-------+----------+------------------+\n",
            "\n"
          ]
        }
      ]
    },
    {
      "cell_type": "code",
      "source": [
        "#Checking how many null values are present in the column\n",
        "from pyspark.sql.functions import isnan,when,count,col\n",
        "df_sel.select([count(when(isnan(c)|col(c).isNull(),c)).alias(c) for c in df_sel.columns]).show()"
      ],
      "metadata": {
        "colab": {
          "base_uri": "https://localhost:8080/"
        },
        "id": "mghG0x8OYfvK",
        "outputId": "0198fc79-981a-455a-a8cb-591f0820047d"
      },
      "execution_count": null,
      "outputs": [
        {
          "output_type": "stream",
          "name": "stdout",
          "text": [
            "+----+--------------+-----+-------+--------+----------+-----------+----------------+---------+----------+----------+---+-----------+----------+---------+------------------+---------+-----------------+-------+\n",
            "|term|home_ownership|grade|purpose|int_rate|addr_state|loan_status|application_type|loan_amnt|emp_length|annual_inc|dti|delinq_2yrs|revol_util|total_acc|num_tl_90g_dpd_24m|dti_joint|revolutil_cleaned|rev_avg|\n",
            "+----+--------------+-----+-------+--------+----------+-----------+----------------+---------+----------+----------+---+-----------+----------+---------+------------------+---------+-----------------+-------+\n",
            "|   0|             0|    0|      0|       0|         0|          0|               0|        0|         0|         0|237|          0|       156|        0|                 0|   111630|                0|      0|\n",
            "+----+--------------+-----+-------+--------+----------+-----------+----------------+---------+----------+----------+---+-----------+----------+---------+------------------+---------+-----------------+-------+\n",
            "\n"
          ]
        }
      ]
    },
    {
      "cell_type": "code",
      "source": [
        "#checking which values are null in the 'dti' column\n",
        "spark.sql(\"select * from loanstatus_sel where dti is null\").show()"
      ],
      "metadata": {
        "colab": {
          "base_uri": "https://localhost:8080/"
        },
        "id": "0A-2w8uQZj4N",
        "outputId": "600bcd67-40b6-4936-f254-65daaa2d12b3"
      },
      "execution_count": null,
      "outputs": [
        {
          "output_type": "stream",
          "name": "stdout",
          "text": [
            "+----------+--------------+-----+------------------+--------+----------+-----------+----------------+---------+----------+----------+----+-----------+----------+---------+------------------+---------+\n",
            "|      term|home_ownership|grade|           purpose|int_rate|addr_state|loan_status|application_type|loan_amnt|emp_length|annual_inc| dti|delinq_2yrs|revol_util|total_acc|num_tl_90g_dpd_24m|dti_joint|\n",
            "+----------+--------------+-----+------------------+--------+----------+-----------+----------------+---------+----------+----------+----+-----------+----------+---------+------------------+---------+\n",
            "| 60 months|      MORTGAGE|    B|    major_purchase|  10.72%|        AZ|    Current|       Joint App|    13000|       n/a|       0.0|null|          0|       26%|       47|                 0|    33.06|\n",
            "| 60 months|          RENT|    C|debt_consolidation|  16.91%|        CA|    Current|       Joint App|    18000|       n/a|       0.0|null|          0|    35.20%|       12|                 0|    17.67|\n",
            "| 60 months|      MORTGAGE|    C|debt_consolidation|  16.91%|        NY| Fully Paid|       Joint App|    35000|       n/a|       0.0|null|          0|    90.10%|       39|                 0|     27.3|\n",
            "| 36 months|          RENT|    C|             other|  13.56%|        CA|    Current|       Joint App|     5500|       n/a|       0.0|null|          0|       13%|       17|                 0|     8.74|\n",
            "| 36 months|      MORTGAGE|    B|debt_consolidation|  10.33%|        TX|    Current|       Joint App|     4700|       n/a|       0.0|null|          0|     4.40%|       15|                 0|    11.68|\n",
            "| 36 months|          RENT|    A|debt_consolidation|   7.56%|        UT|    Current|       Joint App|    10800|       n/a|       0.0|null|          0|    77.80%|       20|                 0|    28.01|\n",
            "| 36 months|      MORTGAGE|    B|debt_consolidation|  10.72%|        CA|    Current|       Joint App|     6000| 10+ years|       0.0|null|          1|       39%|       22|                 0|    15.06|\n",
            "| 36 months|      MORTGAGE|    C|debt_consolidation|  14.47%|        GA|    Current|       Joint App|     5000|       n/a|       0.0|null|          1|    86.20%|       15|                 0|    12.79|\n",
            "| 36 months|          RENT|    E|debt_consolidation|  23.40%|        NY|    Current|       Joint App|    40000|       n/a|       0.0|null|          0|    93.90%|       27|                 0|     8.05|\n",
            "| 36 months|          RENT|    D|       credit_card|  18.94%|        CA|    Current|       Joint App|    35000|       n/a|       0.0|null|          0|    60.50%|       15|                 0|    24.22|\n",
            "| 36 months|      MORTGAGE|    A|       credit_card|   7.56%|        NJ|    Current|       Joint App|    20000|       n/a|       0.0|null|          0|    65.20%|       19|                 0|    20.04|\n",
            "| 36 months|      MORTGAGE|    B|debt_consolidation|  11.31%|        TN|    Current|       Joint App|    30000|       n/a|       0.0|null|          0|    75.80%|       19|                 0|    12.75|\n",
            "| 60 months|      MORTGAGE|    D|debt_consolidation|  20.89%|        AZ|    Current|       Joint App|    28800|       n/a|       0.0|null|          0|        0%|       30|                 0|    24.89|\n",
            "| 36 months|      MORTGAGE|    E|debt_consolidation|  25.34%|        KS|    Current|       Joint App|    40000|       n/a|       0.0|null|          0|    97.50%|        9|                 0|    22.61|\n",
            "| 60 months|      MORTGAGE|    D|debt_consolidation|  17.97%|        CO|    Current|       Joint App|    10000|       n/a|       0.0|null|          3|       76%|       26|                 0|    19.01|\n",
            "| 36 months|          RENT|    B|debt_consolidation|  11.80%|        CA|    Current|       Joint App|    12000|       n/a|       0.0|null|          0|   100.40%|        9|                 0|    15.34|\n",
            "| 36 months|      MORTGAGE|    A|             other|   7.56%|        CA|    Current|       Joint App|     7000|       n/a|       0.0|null|          0|     3.70%|       16|                 0|      0.6|\n",
            "| 60 months|      MORTGAGE|    C|debt_consolidation|  15.02%|        FL|    Current|       Joint App|    10000|       n/a|       0.0|null|          0|    98.30%|       10|                 0|    23.69|\n",
            "| 60 months|      MORTGAGE|    B|       credit_card|  10.72%|        SC|    Current|       Joint App|    36000|       n/a|       0.0|null|          0|    13.70%|        9|                 0|    17.29|\n",
            "| 60 months|      MORTGAGE|    D|debt_consolidation|  18.94%|        NY|    Current|       Joint App|    16000|       n/a|       0.0|null|          0|    49.50%|       54|                 0|    29.25|\n",
            "+----------+--------------+-----+------------------+--------+----------+-----------+----------------+---------+----------+----------+----+-----------+----------+---------+------------------+---------+\n",
            "only showing top 20 rows\n",
            "\n"
          ]
        }
      ]
    },
    {
      "cell_type": "code",
      "source": [
        "#from the above one we can see the applciariontype='Joint App' the values are null still narrowing doewn"
      ],
      "metadata": {
        "id": "9WnfqHUPaj_V"
      },
      "execution_count": null,
      "outputs": []
    },
    {
      "cell_type": "code",
      "source": [
        "spark.sql(\"select application_type,dti,dti_joint from loanstatus_sel where dti is null\").show()"
      ],
      "metadata": {
        "colab": {
          "base_uri": "https://localhost:8080/"
        },
        "id": "93g30C-2auES",
        "outputId": "67c16704-df42-42fb-faaf-dc0b8c058d36"
      },
      "execution_count": null,
      "outputs": [
        {
          "output_type": "stream",
          "name": "stdout",
          "text": [
            "+----------------+----+---------+\n",
            "|application_type| dti|dti_joint|\n",
            "+----------------+----+---------+\n",
            "|       Joint App|null|    33.06|\n",
            "|       Joint App|null|    17.67|\n",
            "|       Joint App|null|     27.3|\n",
            "|       Joint App|null|     8.74|\n",
            "|       Joint App|null|    11.68|\n",
            "|       Joint App|null|    28.01|\n",
            "|       Joint App|null|    15.06|\n",
            "|       Joint App|null|    12.79|\n",
            "|       Joint App|null|     8.05|\n",
            "|       Joint App|null|    24.22|\n",
            "|       Joint App|null|    20.04|\n",
            "|       Joint App|null|    12.75|\n",
            "|       Joint App|null|    24.89|\n",
            "|       Joint App|null|    22.61|\n",
            "|       Joint App|null|    19.01|\n",
            "|       Joint App|null|    15.34|\n",
            "|       Joint App|null|      0.6|\n",
            "|       Joint App|null|    23.69|\n",
            "|       Joint App|null|    17.29|\n",
            "|       Joint App|null|    29.25|\n",
            "+----------------+----+---------+\n",
            "only showing top 20 rows\n",
            "\n"
          ]
        }
      ]
    },
    {
      "cell_type": "code",
      "source": [
        "#from the above insights ,\n",
        "'''\n",
        "we are going to create a new column name 'dti_cleaned' in that with the help of coalesce function, 'dti' records null values will be filled with the vlaues of 'dti_joint'\n",
        "'''\n",
        "df_sel=df_sel.withColumn('dti_cleaned',coalesce(col(\"dti\"),col(\"dti_joint\")))\n",
        "#checking the result\n",
        "from pyspark.sql.functions import isnan,when,count,col\n",
        "df_sel.select([count(when(isnan(c)|col(c).isNull(),c)).alias(c) for c in df_sel.columns]).show()"
      ],
      "metadata": {
        "colab": {
          "base_uri": "https://localhost:8080/"
        },
        "id": "nZTeultInj-L",
        "outputId": "25e50dfd-2612-4ad0-d3f0-a2f97ed4c49b"
      },
      "execution_count": null,
      "outputs": [
        {
          "output_type": "stream",
          "name": "stdout",
          "text": [
            "+----+--------------+-----+-------+--------+----------+-----------+----------------+---------+----------+----------+---+-----------+----------+---------+------------------+---------+-----------------+-------+-----------+\n",
            "|term|home_ownership|grade|purpose|int_rate|addr_state|loan_status|application_type|loan_amnt|emp_length|annual_inc|dti|delinq_2yrs|revol_util|total_acc|num_tl_90g_dpd_24m|dti_joint|revolutil_cleaned|rev_avg|dti_cleaned|\n",
            "+----+--------------+-----+-------+--------+----------+-----------+----------------+---------+----------+----------+---+-----------+----------+---------+------------------+---------+-----------------+-------+-----------+\n",
            "|   0|             0|    0|      0|       0|         0|          0|               0|        0|         0|         0|237|          0|       156|        0|                 0|   111630|                0|      0|          0|\n",
            "+----+--------------+-----+-------+--------+----------+-----------+----------------+---------+----------+----------+---+-----------+----------+---------+------------------+---------+-----------------+-------+-----------+\n",
            "\n"
          ]
        }
      ]
    },
    {
      "cell_type": "code",
      "source": [
        "df_sel.groupby('loan_status').count().show()"
      ],
      "metadata": {
        "id": "wvbVIA8rnm8S",
        "colab": {
          "base_uri": "https://localhost:8080/"
        },
        "outputId": "ae58bad7-cf1b-4466-eb10-e59816aa024b"
      },
      "execution_count": 6,
      "outputs": [
        {
          "output_type": "stream",
          "name": "stdout",
          "text": [
            "+------------------+------+\n",
            "|       loan_status| count|\n",
            "+------------------+------+\n",
            "|        Fully Paid|  4908|\n",
            "|   In Grace Period|   513|\n",
            "|       Charged Off|   122|\n",
            "|Late (31-120 days)|   849|\n",
            "|           Current|121676|\n",
            "| Late (16-30 days)|   344|\n",
            "+------------------+------+\n",
            "\n"
          ]
        }
      ]
    },
    {
      "cell_type": "code",
      "source": [
        "df_sel.where(df_sel.loan_status.isin([\"Late (31-120 days)\", \"Charged Off\",\"In Grace Period\",\"Late (16-30 days)\"])).show()"
      ],
      "metadata": {
        "colab": {
          "base_uri": "https://localhost:8080/"
        },
        "id": "sj1NcAv8vuXB",
        "outputId": "b020b989-865d-4e1a-ffa4-3514db73bbc3"
      },
      "execution_count": 7,
      "outputs": [
        {
          "output_type": "stream",
          "name": "stdout",
          "text": [
            "+----------+--------------+-----+------------------+--------+----------+------------------+----------------+---------+----------+----------+-----+-----------+----------+---------+------------------+---------+\n",
            "|      term|home_ownership|grade|           purpose|int_rate|addr_state|       loan_status|application_type|loan_amnt|emp_length|annual_inc|  dti|delinq_2yrs|revol_util|total_acc|num_tl_90g_dpd_24m|dti_joint|\n",
            "+----------+--------------+-----+------------------+--------+----------+------------------+----------------+---------+----------+----------+-----+-----------+----------+---------+------------------+---------+\n",
            "| 36 months|          RENT|    B|debt_consolidation|  10.33%|        PA|Late (31-120 days)|      Individual|    16000|   3 years|   71000.0|16.58|          0|    11.80%|       28|                 0|     null|\n",
            "| 60 months|      MORTGAGE|    D|debt_consolidation|  22.35%|        OH|Late (31-120 days)|       Joint App|    17500|   9 years|   50000.0|36.92|          0|    35.40%|       37|                 0|    36.79|\n",
            "| 60 months|          RENT|    C|debt_consolidation|  15.02%|        NY|Late (31-120 days)|      Individual|    30000|   2 years|   90000.0|14.28|          0|    14.90%|       10|                 0|     null|\n",
            "| 36 months|      MORTGAGE|    A|debt_consolidation|   8.19%|        PA|Late (31-120 days)|      Individual|    20975|   2 years|  165000.0|24.27|          0|    16.60%|       21|                 0|     null|\n",
            "| 60 months|          RENT|    A|debt_consolidation|   8.19%|        CA|Late (31-120 days)|      Individual|    14000|  < 1 year|   65000.0|13.48|          0|    39.10%|       18|                 0|     null|\n",
            "| 36 months|          RENT|    A|debt_consolidation|   8.19%|        WA|Late (31-120 days)|      Individual|    14000|    1 year|   36000.0|25.83|          0|    73.60%|       11|                 0|     null|\n",
            "| 36 months|          RENT|    B|          vacation|  11.80%|        NC|Late (31-120 days)|      Individual|    20000|   3 years|   50000.0| 9.18|          0|    13.90%|       26|                 0|     null|\n",
            "| 36 months|          RENT|    B|debt_consolidation|  11.80%|        NJ|Late (31-120 days)|      Individual|    32000|  < 1 year|   50000.0|  6.1|          0|    50.30%|       28|                 0|     null|\n",
            "| 36 months|           OWN|    E|             other|  26.31%|        IN|Late (31-120 days)|      Individual|     9100|   3 years|   62000.0|13.38|          0|    12.10%|       23|                 0|     null|\n",
            "| 36 months|          RENT|    C|       credit_card|  13.56%|        OR|Late (31-120 days)|      Individual|     5000|    1 year|   50000.0|16.77|          0|    30.50%|        9|                 0|     null|\n",
            "| 60 months|          RENT|    C|    major_purchase|  14.47%|        CA|Late (31-120 days)|      Individual|    36000|   9 years|   93600.0| 4.14|          0|     0.30%|       29|                 0|     null|\n",
            "| 36 months|          RENT|    E|       credit_card|  24.37%|        NY|Late (31-120 days)|      Individual|    19500| 10+ years|   56000.0|29.83|          0|       66%|       33|                 0|     null|\n",
            "| 36 months|          RENT|    E|          vacation|  25.34%|        NY|Late (31-120 days)|      Individual|     1500|  < 1 year|   20000.0| 9.24|          0|    83.20%|        3|                 0|     null|\n",
            "| 36 months|      MORTGAGE|    E|debt_consolidation|  25.34%|        GA|Late (31-120 days)|      Individual|     3525| 10+ years|  150000.0|14.25|          0|    31.10%|       15|                 0|     null|\n",
            "| 60 months|      MORTGAGE|    C|debt_consolidation|  16.91%|        CA|Late (31-120 days)|      Individual|    11000| 10+ years|   97000.0|28.79|          0|    31.70%|       32|                 0|     null|\n",
            "| 36 months|          RENT|    C|debt_consolidation|  13.56%|        MT|Late (31-120 days)|      Individual|    11500|   8 years|   33000.0| 2.55|          0|       20%|       12|                 0|     null|\n",
            "| 36 months|      MORTGAGE|    A|debt_consolidation|   8.81%|        CA|Late (31-120 days)|      Individual|    22000|   5 years|  165000.0|15.59|          0|    46.40%|       46|                 0|     null|\n",
            "| 60 months|           OWN|    D|debt_consolidation|  17.97%|        NV|Late (31-120 days)|      Individual|    19200|   9 years|   85000.0|39.11|          4|    28.30%|       53|                 2|     null|\n",
            "| 60 months|          RENT|    B|debt_consolidation|  11.80%|        IN|Late (31-120 days)|      Individual|    40000|   5 years|  130000.0|17.88|          0|    78.30%|       16|                 0|     null|\n",
            "| 36 months|      MORTGAGE|    A|       credit_card|   6.46%|        WA|       Charged Off|      Individual|     8000| 10+ years|   55000.0|17.83|          0|    29.10%|       49|                 0|     null|\n",
            "+----------+--------------+-----+------------------+--------+----------+------------------+----------------+---------+----------+----------+-----+-----------+----------+---------+------------------+---------+\n",
            "only showing top 20 rows\n",
            "\n"
          ]
        }
      ]
    },
    {
      "cell_type": "code",
      "source": [
        "#adding a new column as bad loan\n",
        "from pyspark.sql import SparkSession\n",
        "from pyspark.sql.functions import when\n",
        "df_sel=df_sel.withColumn(\"bad_loan\",when(df_sel.loan_status.isin([\"Late (31-120 days)\", \"Charged Off\",\"In Grace Period\",\"Late (16-30 days)\"]),'Yes').otherwise(\"No\"))"
      ],
      "metadata": {
        "id": "ycJ1Q2KSw_OH"
      },
      "execution_count": 14,
      "outputs": []
    },
    {
      "cell_type": "code",
      "source": [
        "df_sel.groupby('bad_loan').count().show()"
      ],
      "metadata": {
        "colab": {
          "base_uri": "https://localhost:8080/"
        },
        "id": "6diVh3lAyBs0",
        "outputId": "2853a8a8-70ec-47db-f03b-71e4650e89c3"
      },
      "execution_count": 15,
      "outputs": [
        {
          "output_type": "stream",
          "name": "stdout",
          "text": [
            "+--------+------+\n",
            "|bad_loan| count|\n",
            "+--------+------+\n",
            "|      No|126584|\n",
            "|     Yes|  1828|\n",
            "+--------+------+\n",
            "\n"
          ]
        }
      ]
    },
    {
      "cell_type": "code",
      "source": [
        "df_sel.filter(df_sel.bad_loan == 'Yes').show()"
      ],
      "metadata": {
        "colab": {
          "base_uri": "https://localhost:8080/"
        },
        "id": "GIRkerWny5Ee",
        "outputId": "88b791a8-ca5f-4b63-8449-e3ba43de8ba4"
      },
      "execution_count": 16,
      "outputs": [
        {
          "output_type": "stream",
          "name": "stdout",
          "text": [
            "+----------+--------------+-----+------------------+--------+----------+------------------+----------------+---------+----------+----------+-----+-----------+----------+---------+------------------+---------+--------+--------+\n",
            "|      term|home_ownership|grade|           purpose|int_rate|addr_state|       loan_status|application_type|loan_amnt|emp_length|annual_inc|  dti|delinq_2yrs|revol_util|total_acc|num_tl_90g_dpd_24m|dti_joint|bad loan|bad_loan|\n",
            "+----------+--------------+-----+------------------+--------+----------+------------------+----------------+---------+----------+----------+-----+-----------+----------+---------+------------------+---------+--------+--------+\n",
            "| 36 months|          RENT|    B|debt_consolidation|  10.33%|        PA|Late (31-120 days)|      Individual|    16000|   3 years|   71000.0|16.58|          0|    11.80%|       28|                 0|     null|     Yes|     Yes|\n",
            "| 60 months|      MORTGAGE|    D|debt_consolidation|  22.35%|        OH|Late (31-120 days)|       Joint App|    17500|   9 years|   50000.0|36.92|          0|    35.40%|       37|                 0|    36.79|     Yes|     Yes|\n",
            "| 60 months|          RENT|    C|debt_consolidation|  15.02%|        NY|Late (31-120 days)|      Individual|    30000|   2 years|   90000.0|14.28|          0|    14.90%|       10|                 0|     null|     Yes|     Yes|\n",
            "| 36 months|      MORTGAGE|    A|debt_consolidation|   8.19%|        PA|Late (31-120 days)|      Individual|    20975|   2 years|  165000.0|24.27|          0|    16.60%|       21|                 0|     null|     Yes|     Yes|\n",
            "| 60 months|          RENT|    A|debt_consolidation|   8.19%|        CA|Late (31-120 days)|      Individual|    14000|  < 1 year|   65000.0|13.48|          0|    39.10%|       18|                 0|     null|     Yes|     Yes|\n",
            "| 36 months|          RENT|    A|debt_consolidation|   8.19%|        WA|Late (31-120 days)|      Individual|    14000|    1 year|   36000.0|25.83|          0|    73.60%|       11|                 0|     null|     Yes|     Yes|\n",
            "| 36 months|          RENT|    B|          vacation|  11.80%|        NC|Late (31-120 days)|      Individual|    20000|   3 years|   50000.0| 9.18|          0|    13.90%|       26|                 0|     null|     Yes|     Yes|\n",
            "| 36 months|          RENT|    B|debt_consolidation|  11.80%|        NJ|Late (31-120 days)|      Individual|    32000|  < 1 year|   50000.0|  6.1|          0|    50.30%|       28|                 0|     null|     Yes|     Yes|\n",
            "| 36 months|           OWN|    E|             other|  26.31%|        IN|Late (31-120 days)|      Individual|     9100|   3 years|   62000.0|13.38|          0|    12.10%|       23|                 0|     null|     Yes|     Yes|\n",
            "| 36 months|          RENT|    C|       credit_card|  13.56%|        OR|Late (31-120 days)|      Individual|     5000|    1 year|   50000.0|16.77|          0|    30.50%|        9|                 0|     null|     Yes|     Yes|\n",
            "| 60 months|          RENT|    C|    major_purchase|  14.47%|        CA|Late (31-120 days)|      Individual|    36000|   9 years|   93600.0| 4.14|          0|     0.30%|       29|                 0|     null|     Yes|     Yes|\n",
            "| 36 months|          RENT|    E|       credit_card|  24.37%|        NY|Late (31-120 days)|      Individual|    19500| 10+ years|   56000.0|29.83|          0|       66%|       33|                 0|     null|     Yes|     Yes|\n",
            "| 36 months|          RENT|    E|          vacation|  25.34%|        NY|Late (31-120 days)|      Individual|     1500|  < 1 year|   20000.0| 9.24|          0|    83.20%|        3|                 0|     null|     Yes|     Yes|\n",
            "| 36 months|      MORTGAGE|    E|debt_consolidation|  25.34%|        GA|Late (31-120 days)|      Individual|     3525| 10+ years|  150000.0|14.25|          0|    31.10%|       15|                 0|     null|     Yes|     Yes|\n",
            "| 60 months|      MORTGAGE|    C|debt_consolidation|  16.91%|        CA|Late (31-120 days)|      Individual|    11000| 10+ years|   97000.0|28.79|          0|    31.70%|       32|                 0|     null|     Yes|     Yes|\n",
            "| 36 months|          RENT|    C|debt_consolidation|  13.56%|        MT|Late (31-120 days)|      Individual|    11500|   8 years|   33000.0| 2.55|          0|       20%|       12|                 0|     null|     Yes|     Yes|\n",
            "| 36 months|      MORTGAGE|    A|debt_consolidation|   8.81%|        CA|Late (31-120 days)|      Individual|    22000|   5 years|  165000.0|15.59|          0|    46.40%|       46|                 0|     null|     Yes|     Yes|\n",
            "| 60 months|           OWN|    D|debt_consolidation|  17.97%|        NV|Late (31-120 days)|      Individual|    19200|   9 years|   85000.0|39.11|          4|    28.30%|       53|                 2|     null|     Yes|     Yes|\n",
            "| 60 months|          RENT|    B|debt_consolidation|  11.80%|        IN|Late (31-120 days)|      Individual|    40000|   5 years|  130000.0|17.88|          0|    78.30%|       16|                 0|     null|     Yes|     Yes|\n",
            "| 36 months|      MORTGAGE|    A|       credit_card|   6.46%|        WA|       Charged Off|      Individual|     8000| 10+ years|   55000.0|17.83|          0|    29.10%|       49|                 0|     null|     Yes|     Yes|\n",
            "+----------+--------------+-----+------------------+--------+----------+------------------+----------------+---------+----------+----------+-----+-----------+----------+---------+------------------+---------+--------+--------+\n",
            "only showing top 20 rows\n",
            "\n"
          ]
        }
      ]
    },
    {
      "cell_type": "code",
      "source": [
        "#Dropping the unnecessary columns\n",
        "df_sel_final=df_sel.drop('revol_util','dti','dti_joint','bad loan')"
      ],
      "metadata": {
        "id": "La25di10zuPO"
      },
      "execution_count": 19,
      "outputs": []
    },
    {
      "cell_type": "code",
      "source": [
        "df_sel_final.printSchema()"
      ],
      "metadata": {
        "colab": {
          "base_uri": "https://localhost:8080/"
        },
        "id": "oGspFShZz6uh",
        "outputId": "8d439d63-d6e0-42af-e98e-a5c92e927dfe"
      },
      "execution_count": 20,
      "outputs": [
        {
          "output_type": "stream",
          "name": "stdout",
          "text": [
            "root\n",
            " |-- term: string (nullable = true)\n",
            " |-- home_ownership: string (nullable = true)\n",
            " |-- grade: string (nullable = true)\n",
            " |-- purpose: string (nullable = true)\n",
            " |-- int_rate: string (nullable = true)\n",
            " |-- addr_state: string (nullable = true)\n",
            " |-- loan_status: string (nullable = true)\n",
            " |-- application_type: string (nullable = true)\n",
            " |-- loan_amnt: integer (nullable = true)\n",
            " |-- emp_length: string (nullable = true)\n",
            " |-- annual_inc: double (nullable = true)\n",
            " |-- delinq_2yrs: integer (nullable = true)\n",
            " |-- total_acc: integer (nullable = true)\n",
            " |-- num_tl_90g_dpd_24m: integer (nullable = true)\n",
            " |-- bad_loan: string (nullable = false)\n",
            "\n"
          ]
        }
      ]
    },
    {
      "cell_type": "code",
      "source": [
        "#permanent table\n",
        "#saving table in the parquet foramt\n",
        "permanent_table='lc_loan_data'\n",
        "df_sel.write.format(\"parquet\").saveAsTable(permanent_table)"
      ],
      "metadata": {
        "id": "enCk1pSk1PgX"
      },
      "execution_count": 21,
      "outputs": []
    }
  ]
}